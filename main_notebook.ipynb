{
 "cells": [
  {
   "cell_type": "code",
   "execution_count": null,
   "metadata": {},
   "outputs": [],
   "source": [
    "from omrdatasettools.Downloader import Downloader\n",
    "from omrdatasettools.OmrDataset import OmrDataset\n",
    "from omrdatasettools.MuscimaPlusPlusSymbolImageGenerator import MuscimaPlusPlusSymbolImageGenerator"
   ]
  },
  {
   "attachments": {},
   "cell_type": "markdown",
   "metadata": {},
   "source": [
    "The downloader module is used to extract the raw information about the datasets into the ./data folder"
   ]
  },
  {
   "cell_type": "code",
   "execution_count": null,
   "metadata": {},
   "outputs": [],
   "source": [
    "downloader = Downloader()"
   ]
  },
  {
   "cell_type": "code",
   "execution_count": null,
   "metadata": {},
   "outputs": [],
   "source": [
    "downloader.download_and_extract_dataset(OmrDataset.MuscimaPlusPlus_V2, \"data/muscima_pp_v2\")"
   ]
  },
  {
   "attachments": {},
   "cell_type": "markdown",
   "metadata": {},
   "source": [
    "The generated raw files are then used to draw the images of the dataset on canvases and store them in different folders."
   ]
  },
  {
   "cell_type": "code",
   "execution_count": null,
   "metadata": {},
   "outputs": [],
   "source": [
    "muscima_generator = MuscimaPlusPlusSymbolImageGenerator()\n",
    "muscima_generator.extract_and_render_all_symbol_masks(\"./data/muscima_pp_v2/\", \"./data/muscima_pp_v2_symbols/\")\n"
   ]
  },
  {
   "attachments": {},
   "cell_type": "markdown",
   "metadata": {},
   "source": [
    "Before training the models, the images first have to be resized to be a standard size."
   ]
  },
  {
   "attachments": {},
   "cell_type": "markdown",
   "metadata": {},
   "source": [
    "First, let's find out what the max height and width is, and use those values to resize all the images"
   ]
  },
  {
   "cell_type": "code",
   "execution_count": null,
   "metadata": {},
   "outputs": [],
   "source": [
    "from PIL import Image\n",
    "import os\n",
    "\n",
    "# Specify the root folder containing your images\n",
    "root_folder = \".\\\\data\\\\muscima_pp_v2_symbols\"\n",
    "\n",
    "# Desired width to search for\n",
    "desired_width = 861\n",
    "\n",
    "# Initialize a list to store image file paths that match the desired width\n",
    "matching_images = []\n",
    "\n",
    "# Iterate through all subfolders and their images\n",
    "for foldername, subfolders, filenames in os.walk(root_folder):\n",
    "    for filename in filenames:\n",
    "        if filename.endswith((\".jpg\", \".jpeg\", \".png\", \".gif\", \".bmp\")):\n",
    "            image_path = os.path.join(foldername, filename)\n",
    "            image = Image.open(image_path)\n",
    "            _, height = image.size\n",
    "            if height == desired_width:\n",
    "                matching_images.append(image_path)\n",
    "\n",
    "# Print the paths of images with the desired width\n",
    "if matching_images:\n",
    "    print(\"Images with a width of 1153 pixels:\")\n",
    "    for image_path in matching_images:\n",
    "        print(image_path)\n",
    "else:\n",
    "    print(\"No images with a width of 1153 pixels found.\")"
   ]
  },
  {
   "cell_type": "code",
   "execution_count": 1,
   "metadata": {},
   "outputs": [
    {
     "name": "stdout",
     "output_type": "stream",
     "text": [
      "All images in subfolders have been resized to the maximum width and height.\n"
     ]
    }
   ],
   "source": [
    "from PIL import Image\n",
    "import os\n",
    "\n",
    "# Specify the root folder containing subfolders with images\n",
    "root_folder = \".\\\\data\\\\muscima_pp_v2_symbols\"\n",
    "\n",
    "# Initialize variables to store maximum width and height\n",
    "max_width = 0\n",
    "max_height = 0\n",
    "\n",
    "# Iterate through all subfolders and their images to find maximum width and height\n",
    "for foldername, subfolders, filenames in os.walk(root_folder):\n",
    "    for filename in filenames:\n",
    "        if filename.endswith((\".jpg\", \".jpeg\", \".png\", \".gif\", \".bmp\")):\n",
    "            image_path = os.path.join(foldername, filename)\n",
    "            image = Image.open(image_path)\n",
    "            width, height = image.size\n",
    "            max_width = max(max_width, width)\n",
    "            max_height = max(max_height, height)\n",
    "\n",
    "# Iterate through all subfolders and their images again and pad them\n",
    "for foldername, subfolders, filenames in os.walk(root_folder):\n",
    "    for filename in filenames:\n",
    "        if filename.endswith((\".jpg\", \".jpeg\", \".png\", \".gif\", \".bmp\")):\n",
    "            image_path = os.path.join(foldername, filename)\n",
    "            image = Image.open(image_path)\n",
    "            \n",
    "            # Calculate padding dimensions\n",
    "            padding_width = max_width - image.width\n",
    "            padding_height = max_height - image.height\n",
    "            \n",
    "            # Create a new image with white padding\n",
    "            padded_image = Image.new(\"RGB\", (max_width, max_height), (255, 255, 255))\n",
    "            \n",
    "            # Calculate the position to paste the original image (centered)\n",
    "            paste_x = padding_width // 2\n",
    "            paste_y = padding_height // 2\n",
    "            \n",
    "            # Paste the original image onto the padded image\n",
    "            padded_image.paste(image, (paste_x, paste_y))\n",
    "            \n",
    "            # Save the padded image, overwriting the original\n",
    "            padded_image.save(image_path)\n",
    "\n",
    "print(\"All images in subfolders have been resized to the maximum width and height.\")"
   ]
  },
  {
   "attachments": {},
   "cell_type": "markdown",
   "metadata": {},
   "source": [
    "At this stage, the images are quite large. To aid in training, we can reduce the size by 50%."
   ]
  },
  {
   "cell_type": "code",
   "execution_count": 2,
   "metadata": {},
   "outputs": [
    {
     "name": "stdout",
     "output_type": "stream",
     "text": [
      "All images in subfolders have been resized to 50% of their size while preserving aspect ratio and stored in corresponding output subfolders.\n"
     ]
    }
   ],
   "source": [
    "from PIL import Image\n",
    "import os\n",
    "\n",
    "# Specify the root folder containing the padded images\n",
    "root_folder = \".\\\\data\\\\muscima_pp_v2_symbols\"\n",
    "\n",
    "# Initialize the output folder\n",
    "output_root_folder = \".\\\\data\\\\muscima_pp_v2_symbols_resized\"\n",
    "\n",
    "# Create the output root folder if it doesn't exist\n",
    "if not os.path.exists(output_root_folder):\n",
    "    os.makedirs(output_root_folder)\n",
    "\n",
    "# Specify the scale factor for resizing (50% in this case)\n",
    "scale_factor = 0.5\n",
    "\n",
    "# Iterate through all subfolders and their images\n",
    "for foldername, subfolders, filenames in os.walk(root_folder):\n",
    "    # Create the corresponding subfolder structure in the output directory\n",
    "    relative_folder = os.path.relpath(foldername, root_folder)\n",
    "    output_folder = os.path.join(output_root_folder, relative_folder)\n",
    "    os.makedirs(output_folder, exist_ok=True)\n",
    "\n",
    "    for filename in filenames:\n",
    "        if filename.endswith((\".jpg\", \".jpeg\", \".png\", \".gif\", \".bmp\")):\n",
    "            image_path = os.path.join(foldername, filename)\n",
    "            image = Image.open(image_path)\n",
    "\n",
    "            # Calculate the new dimensions while preserving aspect ratio\n",
    "            width, height = image.size\n",
    "            new_width = int(width * scale_factor)\n",
    "            new_height = int(height * scale_factor)\n",
    "\n",
    "            # Resize the image\n",
    "            resized_image = image.resize((new_width, new_height))\n",
    "\n",
    "            # Save the resized image to the corresponding output subfolder\n",
    "            output_path = os.path.join(output_folder, filename)\n",
    "            resized_image.save(output_path)\n",
    "\n",
    "print(\"All images in subfolders have been resized to 50% of their size while preserving aspect ratio and stored in corresponding output subfolders.\")"
   ]
  },
  {
   "attachments": {},
   "cell_type": "markdown",
   "metadata": {},
   "source": [
    "We can also try to supplement the dataset by rotating the images 10, -10, 15 and -15 degrees."
   ]
  },
  {
   "cell_type": "code",
   "execution_count": 3,
   "metadata": {},
   "outputs": [],
   "source": [
    "import os\n",
    "\n",
    "root_folder = \".\\\\data\\\\muscima_pp_v2_symbols_resized\"\n",
    "\n",
    "output_root_folder = \".\\\\data\\\\muscima_pp_v2_symbols_resized_rotated\"\n",
    "\n",
    "# This list can be extended with more degrees as needed\n",
    "rotate_degrees = [10, 15, -10, -15] \n",
    "\n",
    "for foldername, subfolders, filenames in os.walk(root_folder):\n",
    "    # Create the corresponding subfolder structure in the output directory\n",
    "    relative_folder = os.path.relpath(foldername, root_folder)\n",
    "    output_folder = os.path.join(output_root_folder, relative_folder)\n",
    "    os.makedirs(output_folder, exist_ok=True)\n",
    "    \n",
    "    for filename in filenames:\n",
    "        if filename.endswith((\".jpg\", \".jpeg\", \".png\", \".gif\", \".bmp\")):\n",
    "            # Get the full image path\n",
    "            image_path = os.path.join(foldername, filename)\n",
    "            image = Image.open(image_path)\n",
    "\n",
    "            # Get image dimensions\n",
    "            height, width = image.size\n",
    "\n",
    "            # Save the original image to the output folder\n",
    "            original_image_path = os.path.join(output_folder, filename)\n",
    "            image.save(original_image_path)\n",
    "\n",
    "            for degree in rotate_degrees:\n",
    "                new_image = image.rotate(degree, fillcolor=(255, 255, 255))\n",
    "\n",
    "                # Get the original file extension\n",
    "                file_extension = os.path.splitext(filename)[-1]\n",
    "\n",
    "                # Save the rotated image with a new filename in the output folder\n",
    "                new_filename = filename.replace(file_extension, f\"_rotated{degree}{file_extension}\")\n",
    "                new_image_path = os.path.join(output_folder, new_filename)\n",
    "                new_image.save(new_image_path)"
   ]
  },
  {
   "attachments": {},
   "cell_type": "markdown",
   "metadata": {},
   "source": [
    "It may also be useful to randomly add images where some features are missing to the training dataset, to avoid overfitting."
   ]
  },
  {
   "cell_type": "code",
   "execution_count": 18,
   "metadata": {},
   "outputs": [],
   "source": [
    "from PIL import Image, ImageDraw\n",
    "import random\n",
    "import os\n",
    "\n",
    "root_folder = \".\\\\data\\\\train\"\n",
    "\n",
    "output_root_folder = \".\\\\data\\\\train_cut\"\n",
    "\n",
    "for foldername, subfolders, filenames in os.walk(root_folder):\n",
    "    x = 10  # Change this to the desired number of random numbers, i.e., the number of images to cut\n",
    "\n",
    "    # Generate x random numbers between 0 and 99\n",
    "    random_numbers = [random.randint(0, 99) for _ in range(x)]\n",
    "    \n",
    "    # Create the corresponding subfolder structure in the output directory\n",
    "    relative_folder = os.path.relpath(foldername, root_folder)\n",
    "    output_folder = os.path.join(output_root_folder, relative_folder)\n",
    "    os.makedirs(output_folder, exist_ok=True)\n",
    "    \n",
    "    for filename in filenames:\n",
    "        if (filenames.index(filename) in random_numbers) and filename.endswith((\".jpg\", \".jpeg\", \".png\", \".gif\", \".bmp\")):\n",
    "            # Get the full image path\n",
    "            image_path = os.path.join(foldername, filename)\n",
    "            # Open the image\n",
    "            image = Image.open(image_path)\n",
    "\n",
    "            # Get the dimensions of the image\n",
    "            width, height = image.size\n",
    "            \n",
    "            # Save the original image to the output folder\n",
    "            original_image_path = os.path.join(output_folder, filename)\n",
    "            image.save(original_image_path)\n",
    "\n",
    "            # Create a new blank image with the same size and white background\n",
    "            output_image = Image.new(\"RGB\", (width, height), \"white\")\n",
    "\n",
    "            # Create a draw object to manipulate the new image\n",
    "            draw = ImageDraw.Draw(output_image)\n",
    "\n",
    "            # Define the coordinates for the top half of the image\n",
    "            top_half = (0, 0, width, height // 2)\n",
    "\n",
    "            # Paste the top half of the input image onto the new image\n",
    "            output_image.paste(image.crop(top_half))\n",
    "\n",
    "            file_extension = os.path.splitext(filename)[-1]\n",
    "\n",
    "            # Save the cut image with a new filename in the output folder\n",
    "            new_filename = filename.replace(file_extension, f\"_cut{file_extension}\")\n",
    "            new_image_path = os.path.join(output_folder, new_filename)\n",
    "            # Save the resulting image\n",
    "            output_image.save(new_image_path)\n",
    "\n",
    "            # Close the input and output images\n",
    "            image.close()\n",
    "            output_image.close()\n",
    "        else:\n",
    "            # Get the full image path\n",
    "            image_path = os.path.join(foldername, filename)\n",
    "            # Open the image\n",
    "            image = Image.open(image_path)\n",
    "            \n",
    "            # Save the original image to the output folder\n",
    "            original_image_path = os.path.join(output_folder, filename)\n",
    "            image.save(original_image_path)"
   ]
  },
  {
   "attachments": {},
   "cell_type": "markdown",
   "metadata": {},
   "source": [
    "Salt and Pepper noise can also be added to a random selection of images."
   ]
  },
  {
   "cell_type": "code",
   "execution_count": 1,
   "metadata": {},
   "outputs": [],
   "source": [
    "from PIL import Image, ImageDraw\n",
    "import numpy as np\n",
    "import random\n",
    "import os\n",
    "\n",
    "root_folder = \".\\\\data\\\\train_cut\"\n",
    "\n",
    "output_root_folder = \".\\\\data\\\\train_salt_and_pepper\"\n",
    "\n",
    "for foldername, subfolders, filenames in os.walk(root_folder):\n",
    "    x = 10  # Change this to the desired number of random numbers, i.e., the number of images to cut\n",
    "\n",
    "    # Generate x random numbers between 0 and 99\n",
    "    random_numbers = [random.randint(0, 99) for _ in range(x)]\n",
    "    \n",
    "    # Create the corresponding subfolder structure in the output directory\n",
    "    relative_folder = os.path.relpath(foldername, root_folder)\n",
    "    output_folder = os.path.join(output_root_folder, relative_folder)\n",
    "    os.makedirs(output_folder, exist_ok=True)\n",
    "    \n",
    "    for filename in filenames:\n",
    "        if (filenames.index(filename) in random_numbers) and filename.endswith((\".jpg\", \".jpeg\", \".png\", \".gif\", \".bmp\")):\n",
    "            # Get the full image path\n",
    "            image_path = os.path.join(foldername, filename)\n",
    "            # Open the image\n",
    "            image = Image.open(image_path)\n",
    "            \n",
    "            # Save the original image to the output folder\n",
    "            original_image_path = os.path.join(output_folder, filename)\n",
    "            image.save(original_image_path)\n",
    "\n",
    "            # Convert the image to a numpy array for easy manipulation\n",
    "            image_array = np.array(image)\n",
    "\n",
    "            # Define the probability of adding salt and pepper noise\n",
    "            noise_probability = 0.02  # You can adjust this value\n",
    "\n",
    "            # Get the dimensions of the image\n",
    "            height, width, channels = image_array.shape\n",
    "\n",
    "            # Generate random noise\n",
    "            for i in range(height):\n",
    "                for j in range(width):\n",
    "                    rand = random.random()\n",
    "                    if rand < noise_probability / 2:\n",
    "                        image_array[i, j] = [0, 0, 0]  # Pepper noise\n",
    "                    elif rand < noise_probability:\n",
    "                        image_array[i, j] = [255, 255, 255]  # Salt noise\n",
    "\n",
    "            # Convert the numpy array back to an image\n",
    "            noisy_image = Image.fromarray(image_array)\n",
    "\n",
    "            file_extension = os.path.splitext(filename)[-1]\n",
    "\n",
    "            # Save the cut image with a new filename in the output folder\n",
    "            new_filename = filename.replace(file_extension, f\"_salt_and_pepper{file_extension}\")\n",
    "            new_image_path = os.path.join(output_folder, new_filename)\n",
    "            # Save the resulting image\n",
    "            noisy_image.save(new_image_path)\n",
    "\n",
    "            # Close the input and output images\n",
    "            image.close()\n",
    "            noisy_image.close()\n",
    "        else:\n",
    "            # Get the full image path\n",
    "            image_path = os.path.join(foldername, filename)\n",
    "            # Open the image\n",
    "            image = Image.open(image_path)\n",
    "            \n",
    "            # Save the original image to the output folder\n",
    "            original_image_path = os.path.join(output_folder, filename)\n",
    "            image.save(original_image_path)"
   ]
  },
  {
   "attachments": {},
   "cell_type": "markdown",
   "metadata": {},
   "source": [
    "Now the data is normalised, it is time to split the dataset and train the Convolutional Neural Network (CNN) and the Support Vector Machine (SVM)."
   ]
  },
  {
   "cell_type": "code",
   "execution_count": 1,
   "metadata": {},
   "outputs": [],
   "source": [
    "import tensorflow as tf\n",
    "from tensorflow import keras\n",
    "from tensorflow.keras import layers\n",
    "from tensorflow.keras.models import Sequential\n",
    "from tensorflow.keras.preprocessing.image import ImageDataGenerator\n",
    "from tensorflow.keras.applications import VGG16  # Pre-trained model\n",
    "from tensorflow.keras.layers import Dense, Flatten\n",
    "from tensorflow.keras.models import Model\n",
    "import matplotlib.pyplot as plt\n",
    "import os\n",
    "import numpy as np"
   ]
  },
  {
   "attachments": {},
   "cell_type": "markdown",
   "metadata": {},
   "source": [
    "First we need to split the data into training, test and validation datasets."
   ]
  },
  {
   "cell_type": "code",
   "execution_count": 2,
   "metadata": {},
   "outputs": [
    {
     "ename": "KeyboardInterrupt",
     "evalue": "",
     "output_type": "error",
     "traceback": [
      "\u001b[1;31m---------------------------------------------------------------------------\u001b[0m",
      "\u001b[1;31mKeyboardInterrupt\u001b[0m                         Traceback (most recent call last)",
      "\u001b[1;32m<ipython-input-2-7e950b162486>\u001b[0m in \u001b[0;36m<module>\u001b[1;34m\u001b[0m\n\u001b[0;32m     41\u001b[0m \u001b[1;33m\u001b[0m\u001b[0m\n\u001b[0;32m     42\u001b[0m         \u001b[1;31m# Copy the file\u001b[0m\u001b[1;33m\u001b[0m\u001b[1;33m\u001b[0m\u001b[1;33m\u001b[0m\u001b[0m\n\u001b[1;32m---> 43\u001b[1;33m         \u001b[0mshutil\u001b[0m\u001b[1;33m.\u001b[0m\u001b[0mcopy\u001b[0m\u001b[1;33m(\u001b[0m\u001b[0msrc_path\u001b[0m\u001b[1;33m,\u001b[0m \u001b[0mdest_path\u001b[0m\u001b[1;33m)\u001b[0m\u001b[1;33m\u001b[0m\u001b[1;33m\u001b[0m\u001b[0m\n\u001b[0m\u001b[0;32m     44\u001b[0m \u001b[1;33m\u001b[0m\u001b[0m\n\u001b[0;32m     45\u001b[0m \u001b[0mprint\u001b[0m\u001b[1;33m(\u001b[0m\u001b[1;34m\"Images have been split and copied to the train, validation, and test folders.\"\u001b[0m\u001b[1;33m)\u001b[0m\u001b[1;33m\u001b[0m\u001b[1;33m\u001b[0m\u001b[0m\n",
      "\u001b[1;32mc:\\Python39\\lib\\shutil.py\u001b[0m in \u001b[0;36mcopy\u001b[1;34m(src, dst, follow_symlinks)\u001b[0m\n\u001b[0;32m    416\u001b[0m     \u001b[1;32mif\u001b[0m \u001b[0mos\u001b[0m\u001b[1;33m.\u001b[0m\u001b[0mpath\u001b[0m\u001b[1;33m.\u001b[0m\u001b[0misdir\u001b[0m\u001b[1;33m(\u001b[0m\u001b[0mdst\u001b[0m\u001b[1;33m)\u001b[0m\u001b[1;33m:\u001b[0m\u001b[1;33m\u001b[0m\u001b[1;33m\u001b[0m\u001b[0m\n\u001b[0;32m    417\u001b[0m         \u001b[0mdst\u001b[0m \u001b[1;33m=\u001b[0m \u001b[0mos\u001b[0m\u001b[1;33m.\u001b[0m\u001b[0mpath\u001b[0m\u001b[1;33m.\u001b[0m\u001b[0mjoin\u001b[0m\u001b[1;33m(\u001b[0m\u001b[0mdst\u001b[0m\u001b[1;33m,\u001b[0m \u001b[0mos\u001b[0m\u001b[1;33m.\u001b[0m\u001b[0mpath\u001b[0m\u001b[1;33m.\u001b[0m\u001b[0mbasename\u001b[0m\u001b[1;33m(\u001b[0m\u001b[0msrc\u001b[0m\u001b[1;33m)\u001b[0m\u001b[1;33m)\u001b[0m\u001b[1;33m\u001b[0m\u001b[1;33m\u001b[0m\u001b[0m\n\u001b[1;32m--> 418\u001b[1;33m     \u001b[0mcopyfile\u001b[0m\u001b[1;33m(\u001b[0m\u001b[0msrc\u001b[0m\u001b[1;33m,\u001b[0m \u001b[0mdst\u001b[0m\u001b[1;33m,\u001b[0m \u001b[0mfollow_symlinks\u001b[0m\u001b[1;33m=\u001b[0m\u001b[0mfollow_symlinks\u001b[0m\u001b[1;33m)\u001b[0m\u001b[1;33m\u001b[0m\u001b[1;33m\u001b[0m\u001b[0m\n\u001b[0m\u001b[0;32m    419\u001b[0m     \u001b[0mcopymode\u001b[0m\u001b[1;33m(\u001b[0m\u001b[0msrc\u001b[0m\u001b[1;33m,\u001b[0m \u001b[0mdst\u001b[0m\u001b[1;33m,\u001b[0m \u001b[0mfollow_symlinks\u001b[0m\u001b[1;33m=\u001b[0m\u001b[0mfollow_symlinks\u001b[0m\u001b[1;33m)\u001b[0m\u001b[1;33m\u001b[0m\u001b[1;33m\u001b[0m\u001b[0m\n\u001b[0;32m    420\u001b[0m     \u001b[1;32mreturn\u001b[0m \u001b[0mdst\u001b[0m\u001b[1;33m\u001b[0m\u001b[1;33m\u001b[0m\u001b[0m\n",
      "\u001b[1;32mc:\\Python39\\lib\\shutil.py\u001b[0m in \u001b[0;36mcopyfile\u001b[1;34m(src, dst, follow_symlinks)\u001b[0m\n\u001b[0;32m    262\u001b[0m         \u001b[0mos\u001b[0m\u001b[1;33m.\u001b[0m\u001b[0msymlink\u001b[0m\u001b[1;33m(\u001b[0m\u001b[0mos\u001b[0m\u001b[1;33m.\u001b[0m\u001b[0mreadlink\u001b[0m\u001b[1;33m(\u001b[0m\u001b[0msrc\u001b[0m\u001b[1;33m)\u001b[0m\u001b[1;33m,\u001b[0m \u001b[0mdst\u001b[0m\u001b[1;33m)\u001b[0m\u001b[1;33m\u001b[0m\u001b[1;33m\u001b[0m\u001b[0m\n\u001b[0;32m    263\u001b[0m     \u001b[1;32melse\u001b[0m\u001b[1;33m:\u001b[0m\u001b[1;33m\u001b[0m\u001b[1;33m\u001b[0m\u001b[0m\n\u001b[1;32m--> 264\u001b[1;33m         \u001b[1;32mwith\u001b[0m \u001b[0mopen\u001b[0m\u001b[1;33m(\u001b[0m\u001b[0msrc\u001b[0m\u001b[1;33m,\u001b[0m \u001b[1;34m'rb'\u001b[0m\u001b[1;33m)\u001b[0m \u001b[1;32mas\u001b[0m \u001b[0mfsrc\u001b[0m\u001b[1;33m,\u001b[0m \u001b[0mopen\u001b[0m\u001b[1;33m(\u001b[0m\u001b[0mdst\u001b[0m\u001b[1;33m,\u001b[0m \u001b[1;34m'wb'\u001b[0m\u001b[1;33m)\u001b[0m \u001b[1;32mas\u001b[0m \u001b[0mfdst\u001b[0m\u001b[1;33m:\u001b[0m\u001b[1;33m\u001b[0m\u001b[1;33m\u001b[0m\u001b[0m\n\u001b[0m\u001b[0;32m    265\u001b[0m             \u001b[1;31m# macOS\u001b[0m\u001b[1;33m\u001b[0m\u001b[1;33m\u001b[0m\u001b[1;33m\u001b[0m\u001b[0m\n\u001b[0;32m    266\u001b[0m             \u001b[1;32mif\u001b[0m \u001b[0m_HAS_FCOPYFILE\u001b[0m\u001b[1;33m:\u001b[0m\u001b[1;33m\u001b[0m\u001b[1;33m\u001b[0m\u001b[0m\n",
      "\u001b[1;31mKeyboardInterrupt\u001b[0m: "
     ]
    }
   ],
   "source": [
    "import os\n",
    "import shutil\n",
    "import random\n",
    "\n",
    "# Define the source folder containing subfolders with images\n",
    "source_folder = \".\\\\data\\\\muscima_pp_v2_symbols_resized_rotated\"\n",
    "\n",
    "# Define the destination folders\n",
    "train_folder = \".\\\\data\\\\train\"\n",
    "validation_folder = \".\\\\data\\\\validation\"\n",
    "test_folder = \".\\\\data\\\\test\"\n",
    "\n",
    "# Define the split ratios (80% train, 10% validation, 10% test)\n",
    "train_ratio = 0.8\n",
    "validation_ratio = 0.1\n",
    "test_ratio = 0.1\n",
    "\n",
    "# Iterate through subfolders in the source folder\n",
    "for root, dirs, files in os.walk(source_folder):\n",
    "    # Calculate the number of images to copy for each split\n",
    "    num_files = len(files)\n",
    "    num_train = int(num_files * train_ratio)\n",
    "    num_validation = int(num_files * validation_ratio)\n",
    "    num_test = num_files - num_train - num_validation\n",
    "\n",
    "    # Randomly shuffle the files in each subfolder\n",
    "    random.shuffle(files)\n",
    "\n",
    "    # Copy files to the destination folders based on the split ratios\n",
    "    for i, file_name in enumerate(files):\n",
    "        src_path = os.path.join(root, file_name)\n",
    "        if i < num_train:\n",
    "            dest_path = os.path.join(train_folder, root[len(source_folder) + 1:], file_name)\n",
    "        elif i < num_train + num_validation:\n",
    "            dest_path = os.path.join(validation_folder, root[len(source_folder) + 1:], file_name)\n",
    "        else:\n",
    "            dest_path = os.path.join(test_folder, root[len(source_folder) + 1:], file_name)\n",
    "\n",
    "        # Ensure the destination directory exists\n",
    "        os.makedirs(os.path.dirname(dest_path), exist_ok=True)\n",
    "\n",
    "        # Copy the file\n",
    "        shutil.copy(src_path, dest_path)\n",
    "\n",
    "print(\"Images have been split and copied to the train, validation, and test folders.\")"
   ]
  },
  {
   "attachments": {},
   "cell_type": "markdown",
   "metadata": {},
   "source": [
    "Now to make the image generators from the different folders"
   ]
  },
  {
   "cell_type": "code",
   "execution_count": 3,
   "metadata": {},
   "outputs": [
    {
     "name": "stdout",
     "output_type": "stream",
     "text": [
      "Number of classes: 35\n",
      "Found 27361 images belonging to 35 classes.\n",
      "Found 3438 images belonging to 35 classes.\n",
      "Found 3454 images belonging to 35 classes.\n"
     ]
    }
   ],
   "source": [
    "from PIL import Image\n",
    "import numpy as np\n",
    "\n",
    "# Define the path to your dataset directory\n",
    "train_dir = '.\\\\data\\\\train_salt_and_pepper'\n",
    "test_dir = '.\\\\data\\\\test'\n",
    "validation_dir = '.\\\\data\\\\validation'\n",
    "\n",
    "\n",
    "# Define the size of your input images\n",
    "input_size = (344, 126)\n",
    "\n",
    "# Define the batch size\n",
    "batch_size = 32\n",
    "\n",
    "# Define the number of classes in your dataset\n",
    "num_classes = len(os.listdir(train_dir))\n",
    "print(f\"Number of classes: {num_classes}\")\n",
    "\n",
    "# Create an ImageDataGenerator for data augmentation\n",
    "train_datagen = ImageDataGenerator(\n",
    "    rescale=1./255,\n",
    "    shear_range=0.2,\n",
    "    zoom_range=0.2,\n",
    "    horizontal_flip=True\n",
    ")\n",
    "\n",
    "# Create an ImageDataGenerator for validation and test data (without augmentation)\n",
    "val_test_datagen = ImageDataGenerator(rescale=1./255)\n",
    "\n",
    "# Load and split the data into train, validation, and test sets\n",
    "train_generator = train_datagen.flow_from_directory(\n",
    "    train_dir,\n",
    "    target_size=input_size,\n",
    "    batch_size=batch_size,\n",
    "    class_mode='categorical',\n",
    "    subset='training'  # Specify training subset\n",
    ")\n",
    "\n",
    "validation_generator = val_test_datagen.flow_from_directory(\n",
    "    validation_dir,\n",
    "    target_size=input_size,\n",
    "    batch_size=batch_size,\n",
    "    class_mode='categorical'\n",
    ")\n",
    "\n",
    "test_generator = val_test_datagen.flow_from_directory(\n",
    "    test_dir,\n",
    "    target_size=input_size,\n",
    "    batch_size=batch_size,\n",
    "    class_mode='categorical'\n",
    ")\n"
   ]
  },
  {
   "attachments": {},
   "cell_type": "markdown",
   "metadata": {},
   "source": [
    "First, let's build and compile the CNN model. This will be done by using a pre-trained model for the feature extraction layers, and a softmax layer for the final classification layer.\n",
    "\n",
    "For the SVM, the same pre-trained model will be used, but the classification layer will be a SVM."
   ]
  },
  {
   "cell_type": "code",
   "execution_count": 4,
   "metadata": {},
   "outputs": [
    {
     "name": "stderr",
     "output_type": "stream",
     "text": [
      "c:\\Python39\\lib\\site-packages\\tensorflow_addons\\utils\\tfa_eol_msg.py:23: UserWarning: \n",
      "\n",
      "TensorFlow Addons (TFA) has ended development and introduction of new features.\n",
      "TFA has entered a minimal maintenance and release mode until a planned end of life in May 2024.\n",
      "Please modify downstream libraries to take dependencies from other repositories in our TensorFlow community (e.g. Keras, Keras-CV, and Keras-NLP). \n",
      "\n",
      "For more information see: https://github.com/tensorflow/addons/issues/2807 \n",
      "\n",
      "  warnings.warn(\n"
     ]
    }
   ],
   "source": [
    "import tensorflow_addons as tfa\n",
    "\n",
    "base_model = VGG16(weights='imagenet', include_top=False, input_shape=(344, 126, 3))\n",
    "\n",
    "for layer in base_model.layers:\n",
    "    layer.trainable = False\n",
    "    \n",
    "x = Flatten()(base_model.output)\n",
    "x = Dense(256, activation='relu')(x)\n",
    "x = Dense(128, activation='relu')(x)\n",
    "\n",
    "# The final softmax layer for the CNN classifier\n",
    "output = Dense(num_classes, activation='softmax')(x)\n",
    "\n",
    "output_svm = Dense(num_classes, activation='linear')(x)\n",
    "\n",
    "f1score = tfa.metrics.F1Score(num_classes=num_classes, average='weighted')\n",
    "\n",
    "cnn = Model(inputs=base_model.input, outputs=output)\n",
    "\n",
    "svm = Model(inputs=base_model.input, outputs=output_svm)\n",
    "\n",
    "cnn.compile(optimizer='adam',\n",
    "            loss='categorical_crossentropy',\n",
    "            metrics=['accuracy', \n",
    "                    tf.keras.metrics.Precision(), \n",
    "                    tf.keras.metrics.Recall(), \n",
    "                    f1score,\n",
    "                    tf.keras.metrics.AUC(),\n",
    "                    tf.keras.metrics.TopKCategoricalAccuracy(k=5)])\n",
    "\n",
    "svm.compile(optimizer='adam',\n",
    "            loss='hinge',\n",
    "            metrics=['accuracy',\n",
    "                    tf.keras.metrics.Precision(),\n",
    "                    tf.keras.metrics.Recall(),\n",
    "                    f1score,\n",
    "                    tf.keras.metrics.AUC(),\n",
    "                    tf.keras.metrics.TopKCategoricalAccuracy(k=5)])\n"
   ]
  },
  {
   "attachments": {},
   "cell_type": "markdown",
   "metadata": {},
   "source": [
    "After compilation, we can train the model using the test and validation sets. These results are then stored in cnn_history. After this, the model is evaluated using the test set."
   ]
  },
  {
   "cell_type": "code",
   "execution_count": 20,
   "metadata": {},
   "outputs": [
    {
     "data": {
      "text/html": [
       "Finishing last run (ID:b2n4tqee) before initializing another..."
      ],
      "text/plain": [
       "<IPython.core.display.HTML object>"
      ]
     },
     "metadata": {},
     "output_type": "display_data"
    },
    {
     "data": {
      "text/html": [
       "Waiting for W&B process to finish... <strong style=\"color:green\">(success).</strong>"
      ],
      "text/plain": [
       "<IPython.core.display.HTML object>"
      ]
     },
     "metadata": {},
     "output_type": "display_data"
    },
    {
     "data": {
      "application/vnd.jupyter.widget-view+json": {
       "model_id": "d92b1a5108d04a958695983bf51ba942",
       "version_major": 2,
       "version_minor": 0
      },
      "text/plain": [
       "VBox(children=(Label(value='6258.442 MB of 6258.442 MB uploaded (4599.071 MB deduped)\\r'), FloatProgress(value…"
      ]
     },
     "metadata": {},
     "output_type": "display_data"
    },
    {
     "data": {
      "text/html": [
       "<style>\n",
       "    table.wandb td:nth-child(1) { padding: 0 10px; text-align: left ; width: auto;} td:nth-child(2) {text-align: left ; width: 100%}\n",
       "    .wandb-row { display: flex; flex-direction: row; flex-wrap: wrap; justify-content: flex-start; width: 100% }\n",
       "    .wandb-col { display: flex; flex-direction: column; flex-basis: 100%; flex: 1; padding: 10px; }\n",
       "    </style>\n",
       "<div class=\"wandb-row\"><div class=\"wandb-col\"><h3>Run history:</h3><br/><table class=\"wandb\"><tr><td>batch/accuracy</td><td>▁▃▄▅▅▆▆▆▇▇▇▇▇▇▇▇▇▇▇▇▇▇▇▇█████████▇██████</td></tr><tr><td>batch/auc</td><td>▁▅▆▇▇▇▇▇████████████████████████████████</td></tr><tr><td>batch/batch_step</td><td>▁▁▁▂▂▂▂▂▂▃▃▃▃▃▃▄▄▄▄▄▅▅▅▅▅▅▆▆▆▆▆▇▇▇▇▇▇███</td></tr><tr><td>batch/f1_score</td><td>▁▃▄▅▅▆▆▆▇▇▇▇▇▇▇▇▇▇▇▇▇██▇▇▇▇█████████████</td></tr><tr><td>batch/learning_rate</td><td>▁▁▁▁▁▁▁▁▁▁▁▁▁▁▁▁▁▁▁▁▁▁▁▁▁▁▁▁▁▁▁▁▁▁▁▁▁▁▁▁</td></tr><tr><td>batch/loss</td><td>█▅▄▃▃▃▃▃▂▂▂▁▁▁▁▁▁▁▁▁▁▁▁▁▁▁▁▁▁▁▁▁▁▁▁▁▁▁▁▁</td></tr><tr><td>batch/precision</td><td>▁▄▄▅▅▅▆▆▆▆▆▇▇▇▇▇▇▇▇▇▇▇▇▇▇▇▇▇▇▇▇▇▇▇▇█████</td></tr><tr><td>batch/recall</td><td>▁▃▄▅▅▅▆▆▇▇▇▇▇▇▇▇██▇██▇▇▇████████████████</td></tr><tr><td>batch/top_k_categorical_accuracy</td><td>▁▄▅▆▆▆▇▇████████████████████████████████</td></tr><tr><td>epoch/accuracy</td><td>▁▅▇██</td></tr><tr><td>epoch/auc</td><td>▁▇▇██</td></tr><tr><td>epoch/epoch</td><td>▁▃▅▆█</td></tr><tr><td>epoch/f1_score</td><td>▁▆▇██</td></tr><tr><td>epoch/learning_rate</td><td>▁▁▁▁▁</td></tr><tr><td>epoch/loss</td><td>█▃▂▁▁</td></tr><tr><td>epoch/precision</td><td>▁▄▆██</td></tr><tr><td>epoch/recall</td><td>▁▆▇██</td></tr><tr><td>epoch/top_k_categorical_accuracy</td><td>▁▆▇██</td></tr><tr><td>epoch/val_accuracy</td><td>▁▇█▇█</td></tr><tr><td>epoch/val_auc</td><td>▁▆▇▆█</td></tr><tr><td>epoch/val_f1_score</td><td>▁▆█▇█</td></tr><tr><td>epoch/val_loss</td><td>█▅▃▂▁</td></tr><tr><td>epoch/val_precision</td><td>▁▇█▇█</td></tr><tr><td>epoch/val_recall</td><td>▁▆▇▇█</td></tr><tr><td>epoch/val_top_k_categorical_accuracy</td><td>▁▂▇██</td></tr></table><br/></div><div class=\"wandb-col\"><h3>Run summary:</h3><br/><table class=\"wandb\"><tr><td>batch/accuracy</td><td>0.6769</td></tr><tr><td>batch/auc</td><td>0.99047</td></tr><tr><td>batch/batch_step</td><td>4355</td></tr><tr><td>batch/f1_score</td><td>0.60035</td></tr><tr><td>batch/learning_rate</td><td>0.001</td></tr><tr><td>batch/loss</td><td>0.70428</td></tr><tr><td>batch/precision</td><td>0.70127</td></tr><tr><td>batch/recall</td><td>0.64844</td></tr><tr><td>batch/top_k_categorical_accuracy</td><td>0.98772</td></tr><tr><td>epoch/accuracy</td><td>0.66149</td></tr><tr><td>epoch/auc</td><td>0.98968</td></tr><tr><td>epoch/epoch</td><td>4</td></tr><tr><td>epoch/f1_score</td><td>0.60481</td></tr><tr><td>epoch/learning_rate</td><td>0.001</td></tr><tr><td>epoch/loss</td><td>0.71207</td></tr><tr><td>epoch/precision</td><td>0.68833</td></tr><tr><td>epoch/recall</td><td>0.62984</td></tr><tr><td>epoch/top_k_categorical_accuracy</td><td>0.98666</td></tr><tr><td>epoch/val_accuracy</td><td>0.69488</td></tr><tr><td>epoch/val_auc</td><td>0.99249</td></tr><tr><td>epoch/val_f1_score</td><td>0.61296</td></tr><tr><td>epoch/val_loss</td><td>0.62202</td></tr><tr><td>epoch/val_precision</td><td>0.71131</td></tr><tr><td>epoch/val_recall</td><td>0.6751</td></tr><tr><td>epoch/val_top_k_categorical_accuracy</td><td>0.99564</td></tr></table><br/></div></div>"
      ],
      "text/plain": [
       "<IPython.core.display.HTML object>"
      ]
     },
     "metadata": {},
     "output_type": "display_data"
    },
    {
     "data": {
      "text/html": [
       " View run <strong style=\"color:#cdcd00\">icy-yogurt-8</strong> at: <a href='https://wandb.ai/reubens-team/Recognition%20of%20expressive%20symbols%20in%20handwritten%20sheet%20music/runs/b2n4tqee' target=\"_blank\">https://wandb.ai/reubens-team/Recognition%20of%20expressive%20symbols%20in%20handwritten%20sheet%20music/runs/b2n4tqee</a><br/>Synced 5 W&B file(s), 0 media file(s), 55 artifact file(s) and 0 other file(s)"
      ],
      "text/plain": [
       "<IPython.core.display.HTML object>"
      ]
     },
     "metadata": {},
     "output_type": "display_data"
    },
    {
     "data": {
      "text/html": [
       "Find logs at: <code>.\\wandb\\run-20230928_080053-b2n4tqee\\logs</code>"
      ],
      "text/plain": [
       "<IPython.core.display.HTML object>"
      ]
     },
     "metadata": {},
     "output_type": "display_data"
    },
    {
     "data": {
      "text/html": [
       "Successfully finished last run (ID:b2n4tqee). Initializing new run:<br/>"
      ],
      "text/plain": [
       "<IPython.core.display.HTML object>"
      ]
     },
     "metadata": {},
     "output_type": "display_data"
    },
    {
     "data": {
      "application/vnd.jupyter.widget-view+json": {
       "model_id": "5b74616e16f941a68d0d2cc1e15e765f",
       "version_major": 2,
       "version_minor": 0
      },
      "text/plain": [
       "VBox(children=(Label(value='Waiting for wandb.init()...\\r'), FloatProgress(value=0.01128888888876342, max=1.0)…"
      ]
     },
     "metadata": {},
     "output_type": "display_data"
    },
    {
     "data": {
      "text/html": [
       "Tracking run with wandb version 0.15.11"
      ],
      "text/plain": [
       "<IPython.core.display.HTML object>"
      ]
     },
     "metadata": {},
     "output_type": "display_data"
    },
    {
     "data": {
      "text/html": [
       "Run data is saved locally in <code>c:\\Users\\Reuben\\Documents\\NWU\\Honneurs\\Projek\\Artefak\\Recognition-of-Expressive-Symbols-in-Handwritten-Sheet-Music\\wandb\\run-20230928_125626-avnbz3gq</code>"
      ],
      "text/plain": [
       "<IPython.core.display.HTML object>"
      ]
     },
     "metadata": {},
     "output_type": "display_data"
    },
    {
     "data": {
      "text/html": [
       "Syncing run <strong><a href='https://wandb.ai/reubens-team/Recognition%20of%20expressive%20symbols%20in%20handwritten%20sheet%20music/runs/avnbz3gq' target=\"_blank\">wise-dew-9</a></strong> to <a href='https://wandb.ai/reubens-team/Recognition%20of%20expressive%20symbols%20in%20handwritten%20sheet%20music' target=\"_blank\">Weights & Biases</a> (<a href='https://wandb.me/run' target=\"_blank\">docs</a>)<br/>"
      ],
      "text/plain": [
       "<IPython.core.display.HTML object>"
      ]
     },
     "metadata": {},
     "output_type": "display_data"
    },
    {
     "data": {
      "text/html": [
       " View project at <a href='https://wandb.ai/reubens-team/Recognition%20of%20expressive%20symbols%20in%20handwritten%20sheet%20music' target=\"_blank\">https://wandb.ai/reubens-team/Recognition%20of%20expressive%20symbols%20in%20handwritten%20sheet%20music</a>"
      ],
      "text/plain": [
       "<IPython.core.display.HTML object>"
      ]
     },
     "metadata": {},
     "output_type": "display_data"
    },
    {
     "data": {
      "text/html": [
       " View run at <a href='https://wandb.ai/reubens-team/Recognition%20of%20expressive%20symbols%20in%20handwritten%20sheet%20music/runs/avnbz3gq' target=\"_blank\">https://wandb.ai/reubens-team/Recognition%20of%20expressive%20symbols%20in%20handwritten%20sheet%20music/runs/avnbz3gq</a>"
      ],
      "text/plain": [
       "<IPython.core.display.HTML object>"
      ]
     },
     "metadata": {},
     "output_type": "display_data"
    },
    {
     "name": "stdout",
     "output_type": "stream",
     "text": [
      "Epoch 1/13\n",
      "856/856 [==============================] - ETA: 0s - loss: 0.6954 - accuracy: 0.6680 - precision_3: 0.6931 - recall_3: 0.6404 - f1_score: 0.6073 - auc_3: 0.9902 - top_k_categorical_accuracy: 0.9876 INFO:tensorflow:Assets written to: models\\assets\n"
     ]
    },
    {
     "name": "stderr",
     "output_type": "stream",
     "text": [
      "INFO:tensorflow:Assets written to: models\\assets\n",
      "\u001b[34m\u001b[1mwandb\u001b[0m: Adding directory to artifact (.\\models)... Done. 3.1s\n"
     ]
    },
    {
     "name": "stdout",
     "output_type": "stream",
     "text": [
      "856/856 [==============================] - 14926s 17s/step - loss: 0.6954 - accuracy: 0.6680 - precision_3: 0.6931 - recall_3: 0.6404 - f1_score: 0.6073 - auc_3: 0.9902 - top_k_categorical_accuracy: 0.9876 - val_loss: 0.5899 - val_accuracy: 0.7033 - val_precision_3: 0.7142 - val_recall_3: 0.6841 - val_f1_score: 0.6213 - val_auc_3: 0.9926 - val_top_k_categorical_accuracy: 0.9962\n",
      "Epoch 2/13\n",
      "856/856 [==============================] - ETA: 0s - loss: 0.6780 - accuracy: 0.6770 - precision_3: 0.6994 - recall_3: 0.6496 - f1_score: 0.6070 - auc_3: 0.9906 - top_k_categorical_accuracy: 0.9891INFO:tensorflow:Assets written to: models\\assets\n"
     ]
    },
    {
     "name": "stderr",
     "output_type": "stream",
     "text": [
      "INFO:tensorflow:Assets written to: models\\assets\n",
      "\u001b[34m\u001b[1mwandb\u001b[0m: Adding directory to artifact (.\\models)... Done. 2.4s\n"
     ]
    },
    {
     "name": "stdout",
     "output_type": "stream",
     "text": [
      "856/856 [==============================] - 4534s 5s/step - loss: 0.6780 - accuracy: 0.6770 - precision_3: 0.6994 - recall_3: 0.6496 - f1_score: 0.6070 - auc_3: 0.9906 - top_k_categorical_accuracy: 0.9891 - val_loss: 0.6057 - val_accuracy: 0.7030 - val_precision_3: 0.7175 - val_recall_3: 0.6847 - val_f1_score: 0.6206 - val_auc_3: 0.9920 - val_top_k_categorical_accuracy: 0.9959\n",
      "Epoch 3/13\n",
      "856/856 [==============================] - ETA: 0s - loss: 0.6685 - accuracy: 0.6787 - precision_3: 0.7022 - recall_3: 0.6542 - f1_score: 0.6106 - auc_3: 0.9910 - top_k_categorical_accuracy: 0.9893INFO:tensorflow:Assets written to: models\\assets\n"
     ]
    },
    {
     "name": "stderr",
     "output_type": "stream",
     "text": [
      "INFO:tensorflow:Assets written to: models\\assets\n",
      "\u001b[34m\u001b[1mwandb\u001b[0m: Adding directory to artifact (.\\models)... Done. 1.9s\n"
     ]
    },
    {
     "name": "stdout",
     "output_type": "stream",
     "text": [
      "856/856 [==============================] - 4985s 6s/step - loss: 0.6685 - accuracy: 0.6787 - precision_3: 0.7022 - recall_3: 0.6542 - f1_score: 0.6106 - auc_3: 0.9910 - top_k_categorical_accuracy: 0.9893 - val_loss: 0.6166 - val_accuracy: 0.7059 - val_precision_3: 0.7177 - val_recall_3: 0.6891 - val_f1_score: 0.6228 - val_auc_3: 0.9926 - val_top_k_categorical_accuracy: 0.9953\n",
      "Epoch 4/13\n",
      "856/856 [==============================] - ETA: 0s - loss: 0.6599 - accuracy: 0.6824 - precision_3: 0.7050 - recall_3: 0.6579 - f1_score: 0.6132 - auc_3: 0.9908 - top_k_categorical_accuracy: 0.9914"
     ]
    },
    {
     "ename": "KeyboardInterrupt",
     "evalue": "",
     "output_type": "error",
     "traceback": [
      "\u001b[1;31m---------------------------------------------------------------------------\u001b[0m",
      "\u001b[1;31mKeyboardInterrupt\u001b[0m                         Traceback (most recent call last)",
      "\u001b[1;32m<ipython-input-20-d08222f121ed>\u001b[0m in \u001b[0;36m<module>\u001b[1;34m\u001b[0m\n\u001b[0;32m     11\u001b[0m \u001b[0mearly_stop\u001b[0m \u001b[1;33m=\u001b[0m \u001b[0mkeras\u001b[0m\u001b[1;33m.\u001b[0m\u001b[0mcallbacks\u001b[0m\u001b[1;33m.\u001b[0m\u001b[0mEarlyStopping\u001b[0m\u001b[1;33m(\u001b[0m\u001b[0mmonitor\u001b[0m\u001b[1;33m=\u001b[0m\u001b[1;34m'val_loss'\u001b[0m\u001b[1;33m,\u001b[0m \u001b[0mpatience\u001b[0m\u001b[1;33m=\u001b[0m\u001b[1;36m5\u001b[0m\u001b[1;33m)\u001b[0m\u001b[1;33m\u001b[0m\u001b[1;33m\u001b[0m\u001b[0m\n\u001b[0;32m     12\u001b[0m \u001b[1;31m# Train the model\u001b[0m\u001b[1;33m\u001b[0m\u001b[1;33m\u001b[0m\u001b[1;33m\u001b[0m\u001b[0m\n\u001b[1;32m---> 13\u001b[1;33m cnn_history = cnn.fit(\n\u001b[0m\u001b[0;32m     14\u001b[0m     \u001b[0mtrain_generator\u001b[0m\u001b[1;33m,\u001b[0m\u001b[1;33m\u001b[0m\u001b[1;33m\u001b[0m\u001b[0m\n\u001b[0;32m     15\u001b[0m     \u001b[0mepochs\u001b[0m\u001b[1;33m=\u001b[0m\u001b[1;36m13\u001b[0m\u001b[1;33m,\u001b[0m\u001b[1;33m\u001b[0m\u001b[1;33m\u001b[0m\u001b[0m\n",
      "\u001b[1;32m~\\AppData\\Roaming\\Python\\Python39\\site-packages\\keras\\src\\utils\\traceback_utils.py\u001b[0m in \u001b[0;36merror_handler\u001b[1;34m(*args, **kwargs)\u001b[0m\n\u001b[0;32m     63\u001b[0m         \u001b[0mfiltered_tb\u001b[0m \u001b[1;33m=\u001b[0m \u001b[1;32mNone\u001b[0m\u001b[1;33m\u001b[0m\u001b[1;33m\u001b[0m\u001b[0m\n\u001b[0;32m     64\u001b[0m         \u001b[1;32mtry\u001b[0m\u001b[1;33m:\u001b[0m\u001b[1;33m\u001b[0m\u001b[1;33m\u001b[0m\u001b[0m\n\u001b[1;32m---> 65\u001b[1;33m             \u001b[1;32mreturn\u001b[0m \u001b[0mfn\u001b[0m\u001b[1;33m(\u001b[0m\u001b[1;33m*\u001b[0m\u001b[0margs\u001b[0m\u001b[1;33m,\u001b[0m \u001b[1;33m**\u001b[0m\u001b[0mkwargs\u001b[0m\u001b[1;33m)\u001b[0m\u001b[1;33m\u001b[0m\u001b[1;33m\u001b[0m\u001b[0m\n\u001b[0m\u001b[0;32m     66\u001b[0m         \u001b[1;32mexcept\u001b[0m \u001b[0mException\u001b[0m \u001b[1;32mas\u001b[0m \u001b[0me\u001b[0m\u001b[1;33m:\u001b[0m\u001b[1;33m\u001b[0m\u001b[1;33m\u001b[0m\u001b[0m\n\u001b[0;32m     67\u001b[0m             \u001b[0mfiltered_tb\u001b[0m \u001b[1;33m=\u001b[0m \u001b[0m_process_traceback_frames\u001b[0m\u001b[1;33m(\u001b[0m\u001b[0me\u001b[0m\u001b[1;33m.\u001b[0m\u001b[0m__traceback__\u001b[0m\u001b[1;33m)\u001b[0m\u001b[1;33m\u001b[0m\u001b[1;33m\u001b[0m\u001b[0m\n",
      "\u001b[1;32m~\\AppData\\Roaming\\Python\\Python39\\site-packages\\keras\\src\\engine\\training.py\u001b[0m in \u001b[0;36mfit\u001b[1;34m(self, x, y, batch_size, epochs, verbose, callbacks, validation_split, validation_data, shuffle, class_weight, sample_weight, initial_epoch, steps_per_epoch, validation_steps, validation_batch_size, validation_freq, max_queue_size, workers, use_multiprocessing)\u001b[0m\n\u001b[0;32m   1789\u001b[0m                             \u001b[0mpss_evaluation_shards\u001b[0m\u001b[1;33m=\u001b[0m\u001b[0mself\u001b[0m\u001b[1;33m.\u001b[0m\u001b[0m_pss_evaluation_shards\u001b[0m\u001b[1;33m,\u001b[0m\u001b[1;33m\u001b[0m\u001b[1;33m\u001b[0m\u001b[0m\n\u001b[0;32m   1790\u001b[0m                         )\n\u001b[1;32m-> 1791\u001b[1;33m                     val_logs = self.evaluate(\n\u001b[0m\u001b[0;32m   1792\u001b[0m                         \u001b[0mx\u001b[0m\u001b[1;33m=\u001b[0m\u001b[0mval_x\u001b[0m\u001b[1;33m,\u001b[0m\u001b[1;33m\u001b[0m\u001b[1;33m\u001b[0m\u001b[0m\n\u001b[0;32m   1793\u001b[0m                         \u001b[0my\u001b[0m\u001b[1;33m=\u001b[0m\u001b[0mval_y\u001b[0m\u001b[1;33m,\u001b[0m\u001b[1;33m\u001b[0m\u001b[1;33m\u001b[0m\u001b[0m\n",
      "\u001b[1;32m~\\AppData\\Roaming\\Python\\Python39\\site-packages\\keras\\src\\utils\\traceback_utils.py\u001b[0m in \u001b[0;36merror_handler\u001b[1;34m(*args, **kwargs)\u001b[0m\n\u001b[0;32m     63\u001b[0m         \u001b[0mfiltered_tb\u001b[0m \u001b[1;33m=\u001b[0m \u001b[1;32mNone\u001b[0m\u001b[1;33m\u001b[0m\u001b[1;33m\u001b[0m\u001b[0m\n\u001b[0;32m     64\u001b[0m         \u001b[1;32mtry\u001b[0m\u001b[1;33m:\u001b[0m\u001b[1;33m\u001b[0m\u001b[1;33m\u001b[0m\u001b[0m\n\u001b[1;32m---> 65\u001b[1;33m             \u001b[1;32mreturn\u001b[0m \u001b[0mfn\u001b[0m\u001b[1;33m(\u001b[0m\u001b[1;33m*\u001b[0m\u001b[0margs\u001b[0m\u001b[1;33m,\u001b[0m \u001b[1;33m**\u001b[0m\u001b[0mkwargs\u001b[0m\u001b[1;33m)\u001b[0m\u001b[1;33m\u001b[0m\u001b[1;33m\u001b[0m\u001b[0m\n\u001b[0m\u001b[0;32m     66\u001b[0m         \u001b[1;32mexcept\u001b[0m \u001b[0mException\u001b[0m \u001b[1;32mas\u001b[0m \u001b[0me\u001b[0m\u001b[1;33m:\u001b[0m\u001b[1;33m\u001b[0m\u001b[1;33m\u001b[0m\u001b[0m\n\u001b[0;32m     67\u001b[0m             \u001b[0mfiltered_tb\u001b[0m \u001b[1;33m=\u001b[0m \u001b[0m_process_traceback_frames\u001b[0m\u001b[1;33m(\u001b[0m\u001b[0me\u001b[0m\u001b[1;33m.\u001b[0m\u001b[0m__traceback__\u001b[0m\u001b[1;33m)\u001b[0m\u001b[1;33m\u001b[0m\u001b[1;33m\u001b[0m\u001b[0m\n",
      "\u001b[1;32m~\\AppData\\Roaming\\Python\\Python39\\site-packages\\keras\\src\\engine\\training.py\u001b[0m in \u001b[0;36mevaluate\u001b[1;34m(self, x, y, batch_size, verbose, sample_weight, steps, callbacks, max_queue_size, workers, use_multiprocessing, return_dict, **kwargs)\u001b[0m\n\u001b[0;32m   2198\u001b[0m                         ):\n\u001b[0;32m   2199\u001b[0m                             \u001b[0mcallbacks\u001b[0m\u001b[1;33m.\u001b[0m\u001b[0mon_test_batch_begin\u001b[0m\u001b[1;33m(\u001b[0m\u001b[0mstep\u001b[0m\u001b[1;33m)\u001b[0m\u001b[1;33m\u001b[0m\u001b[1;33m\u001b[0m\u001b[0m\n\u001b[1;32m-> 2200\u001b[1;33m                             logs = test_function_runner.run_step(\n\u001b[0m\u001b[0;32m   2201\u001b[0m                                 \u001b[0mdataset_or_iterator\u001b[0m\u001b[1;33m,\u001b[0m\u001b[1;33m\u001b[0m\u001b[1;33m\u001b[0m\u001b[0m\n\u001b[0;32m   2202\u001b[0m                                 \u001b[0mdata_handler\u001b[0m\u001b[1;33m,\u001b[0m\u001b[1;33m\u001b[0m\u001b[1;33m\u001b[0m\u001b[0m\n",
      "\u001b[1;32m~\\AppData\\Roaming\\Python\\Python39\\site-packages\\keras\\src\\engine\\training.py\u001b[0m in \u001b[0;36mrun_step\u001b[1;34m(self, dataset_or_iterator, data_handler, step, unused_shards)\u001b[0m\n\u001b[0;32m   3998\u001b[0m \u001b[1;33m\u001b[0m\u001b[0m\n\u001b[0;32m   3999\u001b[0m     \u001b[1;32mdef\u001b[0m \u001b[0mrun_step\u001b[0m\u001b[1;33m(\u001b[0m\u001b[0mself\u001b[0m\u001b[1;33m,\u001b[0m \u001b[0mdataset_or_iterator\u001b[0m\u001b[1;33m,\u001b[0m \u001b[0mdata_handler\u001b[0m\u001b[1;33m,\u001b[0m \u001b[0mstep\u001b[0m\u001b[1;33m,\u001b[0m \u001b[0munused_shards\u001b[0m\u001b[1;33m)\u001b[0m\u001b[1;33m:\u001b[0m\u001b[1;33m\u001b[0m\u001b[1;33m\u001b[0m\u001b[0m\n\u001b[1;32m-> 4000\u001b[1;33m         \u001b[0mtmp_logs\u001b[0m \u001b[1;33m=\u001b[0m \u001b[0mself\u001b[0m\u001b[1;33m.\u001b[0m\u001b[0m_function\u001b[0m\u001b[1;33m(\u001b[0m\u001b[0mdataset_or_iterator\u001b[0m\u001b[1;33m)\u001b[0m\u001b[1;33m\u001b[0m\u001b[1;33m\u001b[0m\u001b[0m\n\u001b[0m\u001b[0;32m   4001\u001b[0m         \u001b[1;32mif\u001b[0m \u001b[0mdata_handler\u001b[0m\u001b[1;33m.\u001b[0m\u001b[0mshould_sync\u001b[0m\u001b[1;33m:\u001b[0m\u001b[1;33m\u001b[0m\u001b[1;33m\u001b[0m\u001b[0m\n\u001b[0;32m   4002\u001b[0m             \u001b[0mcontext\u001b[0m\u001b[1;33m.\u001b[0m\u001b[0masync_wait\u001b[0m\u001b[1;33m(\u001b[0m\u001b[1;33m)\u001b[0m\u001b[1;33m\u001b[0m\u001b[1;33m\u001b[0m\u001b[0m\n",
      "\u001b[1;32m~\\AppData\\Roaming\\Python\\Python39\\site-packages\\tensorflow\\python\\util\\traceback_utils.py\u001b[0m in \u001b[0;36merror_handler\u001b[1;34m(*args, **kwargs)\u001b[0m\n\u001b[0;32m    148\u001b[0m     \u001b[0mfiltered_tb\u001b[0m \u001b[1;33m=\u001b[0m \u001b[1;32mNone\u001b[0m\u001b[1;33m\u001b[0m\u001b[1;33m\u001b[0m\u001b[0m\n\u001b[0;32m    149\u001b[0m     \u001b[1;32mtry\u001b[0m\u001b[1;33m:\u001b[0m\u001b[1;33m\u001b[0m\u001b[1;33m\u001b[0m\u001b[0m\n\u001b[1;32m--> 150\u001b[1;33m       \u001b[1;32mreturn\u001b[0m \u001b[0mfn\u001b[0m\u001b[1;33m(\u001b[0m\u001b[1;33m*\u001b[0m\u001b[0margs\u001b[0m\u001b[1;33m,\u001b[0m \u001b[1;33m**\u001b[0m\u001b[0mkwargs\u001b[0m\u001b[1;33m)\u001b[0m\u001b[1;33m\u001b[0m\u001b[1;33m\u001b[0m\u001b[0m\n\u001b[0m\u001b[0;32m    151\u001b[0m     \u001b[1;32mexcept\u001b[0m \u001b[0mException\u001b[0m \u001b[1;32mas\u001b[0m \u001b[0me\u001b[0m\u001b[1;33m:\u001b[0m\u001b[1;33m\u001b[0m\u001b[1;33m\u001b[0m\u001b[0m\n\u001b[0;32m    152\u001b[0m       \u001b[0mfiltered_tb\u001b[0m \u001b[1;33m=\u001b[0m \u001b[0m_process_traceback_frames\u001b[0m\u001b[1;33m(\u001b[0m\u001b[0me\u001b[0m\u001b[1;33m.\u001b[0m\u001b[0m__traceback__\u001b[0m\u001b[1;33m)\u001b[0m\u001b[1;33m\u001b[0m\u001b[1;33m\u001b[0m\u001b[0m\n",
      "\u001b[1;32m~\\AppData\\Roaming\\Python\\Python39\\site-packages\\tensorflow\\python\\eager\\polymorphic_function\\polymorphic_function.py\u001b[0m in \u001b[0;36m__call__\u001b[1;34m(self, *args, **kwds)\u001b[0m\n\u001b[0;32m    823\u001b[0m \u001b[1;33m\u001b[0m\u001b[0m\n\u001b[0;32m    824\u001b[0m       \u001b[1;32mwith\u001b[0m \u001b[0mOptionalXlaContext\u001b[0m\u001b[1;33m(\u001b[0m\u001b[0mself\u001b[0m\u001b[1;33m.\u001b[0m\u001b[0m_jit_compile\u001b[0m\u001b[1;33m)\u001b[0m\u001b[1;33m:\u001b[0m\u001b[1;33m\u001b[0m\u001b[1;33m\u001b[0m\u001b[0m\n\u001b[1;32m--> 825\u001b[1;33m         \u001b[0mresult\u001b[0m \u001b[1;33m=\u001b[0m \u001b[0mself\u001b[0m\u001b[1;33m.\u001b[0m\u001b[0m_call\u001b[0m\u001b[1;33m(\u001b[0m\u001b[1;33m*\u001b[0m\u001b[0margs\u001b[0m\u001b[1;33m,\u001b[0m \u001b[1;33m**\u001b[0m\u001b[0mkwds\u001b[0m\u001b[1;33m)\u001b[0m\u001b[1;33m\u001b[0m\u001b[1;33m\u001b[0m\u001b[0m\n\u001b[0m\u001b[0;32m    826\u001b[0m \u001b[1;33m\u001b[0m\u001b[0m\n\u001b[0;32m    827\u001b[0m       \u001b[0mnew_tracing_count\u001b[0m \u001b[1;33m=\u001b[0m \u001b[0mself\u001b[0m\u001b[1;33m.\u001b[0m\u001b[0mexperimental_get_tracing_count\u001b[0m\u001b[1;33m(\u001b[0m\u001b[1;33m)\u001b[0m\u001b[1;33m\u001b[0m\u001b[1;33m\u001b[0m\u001b[0m\n",
      "\u001b[1;32m~\\AppData\\Roaming\\Python\\Python39\\site-packages\\tensorflow\\python\\eager\\polymorphic_function\\polymorphic_function.py\u001b[0m in \u001b[0;36m_call\u001b[1;34m(self, *args, **kwds)\u001b[0m\n\u001b[0;32m    862\u001b[0m       \u001b[1;31m# In this case we have not created variables on the first call. So we can\u001b[0m\u001b[1;33m\u001b[0m\u001b[1;33m\u001b[0m\u001b[1;33m\u001b[0m\u001b[0m\n\u001b[0;32m    863\u001b[0m       \u001b[1;31m# run the first trace but we should fail if variables are created.\u001b[0m\u001b[1;33m\u001b[0m\u001b[1;33m\u001b[0m\u001b[1;33m\u001b[0m\u001b[0m\n\u001b[1;32m--> 864\u001b[1;33m       \u001b[0mresults\u001b[0m \u001b[1;33m=\u001b[0m \u001b[0mself\u001b[0m\u001b[1;33m.\u001b[0m\u001b[0m_variable_creation_fn\u001b[0m\u001b[1;33m(\u001b[0m\u001b[1;33m*\u001b[0m\u001b[0margs\u001b[0m\u001b[1;33m,\u001b[0m \u001b[1;33m**\u001b[0m\u001b[0mkwds\u001b[0m\u001b[1;33m)\u001b[0m\u001b[1;33m\u001b[0m\u001b[1;33m\u001b[0m\u001b[0m\n\u001b[0m\u001b[0;32m    865\u001b[0m       \u001b[1;32mif\u001b[0m \u001b[0mself\u001b[0m\u001b[1;33m.\u001b[0m\u001b[0m_created_variables\u001b[0m \u001b[1;32mand\u001b[0m \u001b[1;32mnot\u001b[0m \u001b[0mALLOW_DYNAMIC_VARIABLE_CREATION\u001b[0m\u001b[1;33m:\u001b[0m\u001b[1;33m\u001b[0m\u001b[1;33m\u001b[0m\u001b[0m\n\u001b[0;32m    866\u001b[0m         raise ValueError(\"Creating variables on a non-first call to a function\"\n",
      "\u001b[1;32m~\\AppData\\Roaming\\Python\\Python39\\site-packages\\tensorflow\\python\\eager\\polymorphic_function\\tracing_compiler.py\u001b[0m in \u001b[0;36m__call__\u001b[1;34m(self, *args, **kwargs)\u001b[0m\n\u001b[0;32m    146\u001b[0m       (concrete_function,\n\u001b[0;32m    147\u001b[0m        filtered_flat_args) = self._maybe_define_function(args, kwargs)\n\u001b[1;32m--> 148\u001b[1;33m     return concrete_function._call_flat(\n\u001b[0m\u001b[0;32m    149\u001b[0m         filtered_flat_args, captured_inputs=concrete_function.captured_inputs)  # pylint: disable=protected-access\n\u001b[0;32m    150\u001b[0m \u001b[1;33m\u001b[0m\u001b[0m\n",
      "\u001b[1;32m~\\AppData\\Roaming\\Python\\Python39\\site-packages\\tensorflow\\python\\eager\\polymorphic_function\\monomorphic_function.py\u001b[0m in \u001b[0;36m_call_flat\u001b[1;34m(self, args, captured_inputs)\u001b[0m\n\u001b[0;32m   1347\u001b[0m         and executing_eagerly):\n\u001b[0;32m   1348\u001b[0m       \u001b[1;31m# No tape is watching; skip to running the function.\u001b[0m\u001b[1;33m\u001b[0m\u001b[1;33m\u001b[0m\u001b[1;33m\u001b[0m\u001b[0m\n\u001b[1;32m-> 1349\u001b[1;33m       \u001b[1;32mreturn\u001b[0m \u001b[0mself\u001b[0m\u001b[1;33m.\u001b[0m\u001b[0m_build_call_outputs\u001b[0m\u001b[1;33m(\u001b[0m\u001b[0mself\u001b[0m\u001b[1;33m.\u001b[0m\u001b[0m_inference_function\u001b[0m\u001b[1;33m(\u001b[0m\u001b[1;33m*\u001b[0m\u001b[0margs\u001b[0m\u001b[1;33m)\u001b[0m\u001b[1;33m)\u001b[0m\u001b[1;33m\u001b[0m\u001b[1;33m\u001b[0m\u001b[0m\n\u001b[0m\u001b[0;32m   1350\u001b[0m     forward_backward = self._select_forward_and_backward_functions(\n\u001b[0;32m   1351\u001b[0m         \u001b[0margs\u001b[0m\u001b[1;33m,\u001b[0m\u001b[1;33m\u001b[0m\u001b[1;33m\u001b[0m\u001b[0m\n",
      "\u001b[1;32m~\\AppData\\Roaming\\Python\\Python39\\site-packages\\tensorflow\\python\\eager\\polymorphic_function\\atomic_function.py\u001b[0m in \u001b[0;36m__call__\u001b[1;34m(self, *args)\u001b[0m\n\u001b[0;32m    194\u001b[0m         \u001b[1;32mwith\u001b[0m \u001b[0mrecord\u001b[0m\u001b[1;33m.\u001b[0m\u001b[0mstop_recording\u001b[0m\u001b[1;33m(\u001b[0m\u001b[1;33m)\u001b[0m\u001b[1;33m:\u001b[0m\u001b[1;33m\u001b[0m\u001b[1;33m\u001b[0m\u001b[0m\n\u001b[0;32m    195\u001b[0m           \u001b[1;32mif\u001b[0m \u001b[0mself\u001b[0m\u001b[1;33m.\u001b[0m\u001b[0m_bound_context\u001b[0m\u001b[1;33m.\u001b[0m\u001b[0mexecuting_eagerly\u001b[0m\u001b[1;33m(\u001b[0m\u001b[1;33m)\u001b[0m\u001b[1;33m:\u001b[0m\u001b[1;33m\u001b[0m\u001b[1;33m\u001b[0m\u001b[0m\n\u001b[1;32m--> 196\u001b[1;33m             outputs = self._bound_context.call_function(\n\u001b[0m\u001b[0;32m    197\u001b[0m                 \u001b[0mself\u001b[0m\u001b[1;33m.\u001b[0m\u001b[0mname\u001b[0m\u001b[1;33m,\u001b[0m\u001b[1;33m\u001b[0m\u001b[1;33m\u001b[0m\u001b[0m\n\u001b[0;32m    198\u001b[0m                 \u001b[0mlist\u001b[0m\u001b[1;33m(\u001b[0m\u001b[0margs\u001b[0m\u001b[1;33m)\u001b[0m\u001b[1;33m,\u001b[0m\u001b[1;33m\u001b[0m\u001b[1;33m\u001b[0m\u001b[0m\n",
      "\u001b[1;32m~\\AppData\\Roaming\\Python\\Python39\\site-packages\\tensorflow\\python\\eager\\context.py\u001b[0m in \u001b[0;36mcall_function\u001b[1;34m(self, name, tensor_inputs, num_outputs)\u001b[0m\n\u001b[0;32m   1455\u001b[0m     \u001b[0mcancellation_context\u001b[0m \u001b[1;33m=\u001b[0m \u001b[0mcancellation\u001b[0m\u001b[1;33m.\u001b[0m\u001b[0mcontext\u001b[0m\u001b[1;33m(\u001b[0m\u001b[1;33m)\u001b[0m\u001b[1;33m\u001b[0m\u001b[1;33m\u001b[0m\u001b[0m\n\u001b[0;32m   1456\u001b[0m     \u001b[1;32mif\u001b[0m \u001b[0mcancellation_context\u001b[0m \u001b[1;32mis\u001b[0m \u001b[1;32mNone\u001b[0m\u001b[1;33m:\u001b[0m\u001b[1;33m\u001b[0m\u001b[1;33m\u001b[0m\u001b[0m\n\u001b[1;32m-> 1457\u001b[1;33m       outputs = execute.execute(\n\u001b[0m\u001b[0;32m   1458\u001b[0m           \u001b[0mname\u001b[0m\u001b[1;33m.\u001b[0m\u001b[0mdecode\u001b[0m\u001b[1;33m(\u001b[0m\u001b[1;34m\"utf-8\"\u001b[0m\u001b[1;33m)\u001b[0m\u001b[1;33m,\u001b[0m\u001b[1;33m\u001b[0m\u001b[1;33m\u001b[0m\u001b[0m\n\u001b[0;32m   1459\u001b[0m           \u001b[0mnum_outputs\u001b[0m\u001b[1;33m=\u001b[0m\u001b[0mnum_outputs\u001b[0m\u001b[1;33m,\u001b[0m\u001b[1;33m\u001b[0m\u001b[1;33m\u001b[0m\u001b[0m\n",
      "\u001b[1;32m~\\AppData\\Roaming\\Python\\Python39\\site-packages\\tensorflow\\python\\eager\\execute.py\u001b[0m in \u001b[0;36mquick_execute\u001b[1;34m(op_name, num_outputs, inputs, attrs, ctx, name)\u001b[0m\n\u001b[0;32m     51\u001b[0m   \u001b[1;32mtry\u001b[0m\u001b[1;33m:\u001b[0m\u001b[1;33m\u001b[0m\u001b[1;33m\u001b[0m\u001b[0m\n\u001b[0;32m     52\u001b[0m     \u001b[0mctx\u001b[0m\u001b[1;33m.\u001b[0m\u001b[0mensure_initialized\u001b[0m\u001b[1;33m(\u001b[0m\u001b[1;33m)\u001b[0m\u001b[1;33m\u001b[0m\u001b[1;33m\u001b[0m\u001b[0m\n\u001b[1;32m---> 53\u001b[1;33m     tensors = pywrap_tfe.TFE_Py_Execute(ctx._handle, device_name, op_name,\n\u001b[0m\u001b[0;32m     54\u001b[0m                                         inputs, attrs, num_outputs)\n\u001b[0;32m     55\u001b[0m   \u001b[1;32mexcept\u001b[0m \u001b[0mcore\u001b[0m\u001b[1;33m.\u001b[0m\u001b[0m_NotOkStatusException\u001b[0m \u001b[1;32mas\u001b[0m \u001b[0me\u001b[0m\u001b[1;33m:\u001b[0m\u001b[1;33m\u001b[0m\u001b[1;33m\u001b[0m\u001b[0m\n",
      "\u001b[1;31mKeyboardInterrupt\u001b[0m: "
     ]
    }
   ],
   "source": [
    "import wandb\n",
    "from wandb.keras import WandbMetricsLogger, WandbModelCheckpoint\n",
    "\n",
    "# start a new wandb run to track this script\n",
    "wandb.init(project=\"Recognition of expressive symbols in handwritten sheet music\")\n",
    "\n",
    "wandb.config.epochs = 13\n",
    "wandb.config.batch_size = batch_size\n",
    "\n",
    "\n",
    "early_stop = keras.callbacks.EarlyStopping(monitor='val_loss', patience=5)\n",
    "# Train the model\n",
    "cnn_history = cnn.fit(\n",
    "    train_generator,\n",
    "    epochs=13,\n",
    "    validation_data=validation_generator,\n",
    "    callbacks=[early_stop, \n",
    "                WandbMetricsLogger(log_freq=5),\n",
    "                WandbModelCheckpoint(\"models\")]\n",
    ")\n",
    "\n",
    "\n",
    "#Evaluate the model using the test set\n",
    "test_results = cnn.evaluate(test_generator)\n",
    "print(\"Test loss:\", test_results[0])\n",
    "print(\"Test accuracy:\", test_results[1])\n",
    "\n",
    "wandb.log({\"test_loss\": test_results[0], \"test_accuracy\": test_results[1]})\n",
    "\n",
    "wandb.finish()"
   ]
  },
  {
   "attachments": {},
   "cell_type": "markdown",
   "metadata": {},
   "source": [
    "After this, the model can be saved for later reference."
   ]
  },
  {
   "cell_type": "code",
   "execution_count": 21,
   "metadata": {},
   "outputs": [],
   "source": [
    "cnn.save('.\\\\models\\\\cnn_pre-trained_epoch4.keras')"
   ]
  },
  {
   "cell_type": "code",
   "execution_count": 19,
   "metadata": {},
   "outputs": [],
   "source": [
    "cnn = tf.keras.models.load_model(\".\\\\models\\\\cnn_pre-trained_2.keras\")\n",
    "\n",
    "cnn.compile(optimizer='adam',\n",
    "            loss='categorical_crossentropy',\n",
    "            metrics=['accuracy',\n",
    "                    tf.keras.metrics.Precision(),\n",
    "                    tf.keras.metrics.Recall(),\n",
    "                    f1score,\n",
    "                    tf.keras.metrics.AUC(),\n",
    "                    tf.keras.metrics.TopKCategoricalAccuracy(k=5)])"
   ]
  },
  {
   "cell_type": "code",
   "execution_count": 10,
   "metadata": {},
   "outputs": [],
   "source": [
    "svm = tf.keras.models.load_model(\".\\\\models\\\\svm_pre-trained_1.keras\")\n",
    "\n",
    "svm.compile(optimizer='adam',\n",
    "            loss='hinge',\n",
    "            metrics=['accuracy',\n",
    "                    tf.keras.metrics.Precision(),\n",
    "                    tf.keras.metrics.Recall(),\n",
    "                    f1score,\n",
    "                    tf.keras.metrics.AUC(),\n",
    "                    tf.keras.metrics.TopKCategoricalAccuracy(k=5)])"
   ]
  },
  {
   "attachments": {},
   "cell_type": "markdown",
   "metadata": {},
   "source": [
    "We can do the same for the SVM classifier."
   ]
  },
  {
   "cell_type": "code",
   "execution_count": 11,
   "metadata": {},
   "outputs": [
    {
     "data": {
      "text/html": [
       "Finishing last run (ID:zb1ibpx3) before initializing another..."
      ],
      "text/plain": [
       "<IPython.core.display.HTML object>"
      ]
     },
     "metadata": {},
     "output_type": "display_data"
    },
    {
     "data": {
      "text/html": [
       "Waiting for W&B process to finish... <strong style=\"color:green\">(success).</strong>"
      ],
      "text/plain": [
       "<IPython.core.display.HTML object>"
      ]
     },
     "metadata": {},
     "output_type": "display_data"
    },
    {
     "data": {
      "application/vnd.jupyter.widget-view+json": {
       "model_id": "090d4ddb3fcb4e219ea9a64f435ad9ef",
       "version_major": 2,
       "version_minor": 0
      },
      "text/plain": [
       "VBox(children=(Label(value='0.001 MB of 0.001 MB uploaded (0.000 MB deduped)\\r'), FloatProgress(value=1.0, max…"
      ]
     },
     "metadata": {},
     "output_type": "display_data"
    },
    {
     "data": {
      "text/html": [
       "<style>\n",
       "    table.wandb td:nth-child(1) { padding: 0 10px; text-align: left ; width: auto;} td:nth-child(2) {text-align: left ; width: 100%}\n",
       "    .wandb-row { display: flex; flex-direction: row; flex-wrap: wrap; justify-content: flex-start; width: 100% }\n",
       "    .wandb-col { display: flex; flex-direction: column; flex-basis: 100%; flex: 1; padding: 10px; }\n",
       "    </style>\n",
       "<div class=\"wandb-row\"><div class=\"wandb-col\"><h3>Run history:</h3><br/><table class=\"wandb\"><tr><td>batch/accuracy</td><td>▁▃▄▅▆▆▆▆▇▇▇▇▇▇▇▇▇▇▇▇▇███████████████████</td></tr><tr><td>batch/auc_1</td><td>▁▂▃▄▅▅▅▅▆▆▆▆▆▆▇▇▇▇▇▇▇▇▇▇▇▇██████████████</td></tr><tr><td>batch/batch_step</td><td>▁▁▁▁▂▂▂▂▂▃▃▃▃▃▃▄▄▄▄▄▅▅▅▅▅▅▆▆▆▆▆▇▇▇▇▇▇███</td></tr><tr><td>batch/f1_score</td><td>▁▄▅▅▆▆▆▆▇▇▇▇▇▇▇▇▇▇▇▇▇▇▇█████████████████</td></tr><tr><td>batch/learning_rate</td><td>▁▁▁▁▁▁▁▁▁▁▁▁▁▁▁▁▁▁▁▁▁▁▁▁▁▁▁▁▁▁▁▁▁▁▁▁▁▁▁▁</td></tr><tr><td>batch/loss</td><td>█▃▂▂▂▂▂▁▁▁▁▁▁▁▁▁▁▁▁▁▁▁▁▁▁▁▁▁▁▁▁▁▁▁▁▁▁▁▁▁</td></tr><tr><td>batch/precision_1</td><td>▁▁▂▄▅▆▆▆▆▆▇▇▇▇▇▇▇▇▇▇████████████████████</td></tr><tr><td>batch/recall_1</td><td>▂▁▂▃▄▅▅▅▅▅▅▅▅▆▆▆▆▆▆▇▇▇▇▇▇▇▇▇▇▇▇█████████</td></tr><tr><td>batch/top_k_categorical_accuracy</td><td>▁▄▅▆▆▇▇▇▇▇▇▇▇▇▇▇████████████████████████</td></tr></table><br/></div><div class=\"wandb-col\"><h3>Run summary:</h3><br/><table class=\"wandb\"><tr><td>batch/accuracy</td><td>0.54344</td></tr><tr><td>batch/auc_1</td><td>0.70348</td></tr><tr><td>batch/batch_step</td><td>855</td></tr><tr><td>batch/f1_score</td><td>0.45954</td></tr><tr><td>batch/learning_rate</td><td>0.001</td></tr><tr><td>batch/loss</td><td>0.05654</td></tr><tr><td>batch/precision_1</td><td>0.64147</td></tr><tr><td>batch/recall_1</td><td>0.30459</td></tr><tr><td>batch/top_k_categorical_accuracy</td><td>0.8704</td></tr></table><br/></div></div>"
      ],
      "text/plain": [
       "<IPython.core.display.HTML object>"
      ]
     },
     "metadata": {},
     "output_type": "display_data"
    },
    {
     "data": {
      "text/html": [
       " View run <strong style=\"color:#cdcd00\">morning-rain-6</strong> at: <a href='https://wandb.ai/reubens-team/Recognition%20of%20expressive%20symbols%20in%20handwritten%20sheet%20music/runs/zb1ibpx3' target=\"_blank\">https://wandb.ai/reubens-team/Recognition%20of%20expressive%20symbols%20in%20handwritten%20sheet%20music/runs/zb1ibpx3</a><br/>Synced 5 W&B file(s), 0 media file(s), 0 artifact file(s) and 0 other file(s)"
      ],
      "text/plain": [
       "<IPython.core.display.HTML object>"
      ]
     },
     "metadata": {},
     "output_type": "display_data"
    },
    {
     "data": {
      "text/html": [
       "Find logs at: <code>.\\wandb\\run-20230927_111954-zb1ibpx3\\logs</code>"
      ],
      "text/plain": [
       "<IPython.core.display.HTML object>"
      ]
     },
     "metadata": {},
     "output_type": "display_data"
    },
    {
     "data": {
      "text/html": [
       "Successfully finished last run (ID:zb1ibpx3). Initializing new run:<br/>"
      ],
      "text/plain": [
       "<IPython.core.display.HTML object>"
      ]
     },
     "metadata": {},
     "output_type": "display_data"
    },
    {
     "data": {
      "application/vnd.jupyter.widget-view+json": {
       "model_id": "420bef550127431caee072123b92dd25",
       "version_major": 2,
       "version_minor": 0
      },
      "text/plain": [
       "VBox(children=(Label(value='Waiting for wandb.init()...\\r'), FloatProgress(value=0.011288888888884685, max=1.0…"
      ]
     },
     "metadata": {},
     "output_type": "display_data"
    },
    {
     "data": {
      "text/html": [
       "Tracking run with wandb version 0.15.11"
      ],
      "text/plain": [
       "<IPython.core.display.HTML object>"
      ]
     },
     "metadata": {},
     "output_type": "display_data"
    },
    {
     "data": {
      "text/html": [
       "Run data is saved locally in <code>c:\\Users\\Reuben\\Documents\\NWU\\Honneurs\\Projek\\Artefak\\Recognition-of-Expressive-Symbols-in-Handwritten-Sheet-Music\\wandb\\run-20230927_144853-666jm9oj</code>"
      ],
      "text/plain": [
       "<IPython.core.display.HTML object>"
      ]
     },
     "metadata": {},
     "output_type": "display_data"
    },
    {
     "data": {
      "text/html": [
       "Syncing run <strong><a href='https://wandb.ai/reubens-team/Recognition%20of%20expressive%20symbols%20in%20handwritten%20sheet%20music/runs/666jm9oj' target=\"_blank\">expert-firefly-7</a></strong> to <a href='https://wandb.ai/reubens-team/Recognition%20of%20expressive%20symbols%20in%20handwritten%20sheet%20music' target=\"_blank\">Weights & Biases</a> (<a href='https://wandb.me/run' target=\"_blank\">docs</a>)<br/>"
      ],
      "text/plain": [
       "<IPython.core.display.HTML object>"
      ]
     },
     "metadata": {},
     "output_type": "display_data"
    },
    {
     "data": {
      "text/html": [
       " View project at <a href='https://wandb.ai/reubens-team/Recognition%20of%20expressive%20symbols%20in%20handwritten%20sheet%20music' target=\"_blank\">https://wandb.ai/reubens-team/Recognition%20of%20expressive%20symbols%20in%20handwritten%20sheet%20music</a>"
      ],
      "text/plain": [
       "<IPython.core.display.HTML object>"
      ]
     },
     "metadata": {},
     "output_type": "display_data"
    },
    {
     "data": {
      "text/html": [
       " View run at <a href='https://wandb.ai/reubens-team/Recognition%20of%20expressive%20symbols%20in%20handwritten%20sheet%20music/runs/666jm9oj' target=\"_blank\">https://wandb.ai/reubens-team/Recognition%20of%20expressive%20symbols%20in%20handwritten%20sheet%20music/runs/666jm9oj</a>"
      ],
      "text/plain": [
       "<IPython.core.display.HTML object>"
      ]
     },
     "metadata": {},
     "output_type": "display_data"
    },
    {
     "name": "stdout",
     "output_type": "stream",
     "text": [
      "Epoch 1/13\n",
      "856/856 [==============================] - ETA: 0s - loss: 0.0463 - accuracy: 0.6079 - precision_2: 0.6843 - recall_2: 0.4521 - f1_score: 0.5210 - auc_2: 0.7590 - top_k_categorical_accuracy: 0.9249INFO:tensorflow:Assets written to: models\\assets\n"
     ]
    },
    {
     "name": "stderr",
     "output_type": "stream",
     "text": [
      "INFO:tensorflow:Assets written to: models\\assets\n",
      "\u001b[34m\u001b[1mwandb\u001b[0m: Adding directory to artifact (.\\models)... Done. 2.8s\n"
     ]
    },
    {
     "name": "stdout",
     "output_type": "stream",
     "text": [
      "856/856 [==============================] - 2682s 3s/step - loss: 0.0463 - accuracy: 0.6079 - precision_2: 0.6843 - recall_2: 0.4521 - f1_score: 0.5210 - auc_2: 0.7590 - top_k_categorical_accuracy: 0.9249 - val_loss: 0.0427 - val_accuracy: 0.6463 - val_precision_2: 0.6920 - val_recall_2: 0.4802 - val_f1_score: 0.5604 - val_auc_2: 0.7666 - val_top_k_categorical_accuracy: 0.9514\n",
      "Epoch 2/13\n",
      "856/856 [==============================] - ETA: 0s - loss: 0.0438 - accuracy: 0.6297 - precision_2: 0.6908 - recall_2: 0.4996 - f1_score: 0.5404 - auc_2: 0.7749 - top_k_categorical_accuracy: 0.9460INFO:tensorflow:Assets written to: models\\assets\n"
     ]
    },
    {
     "name": "stderr",
     "output_type": "stream",
     "text": [
      "INFO:tensorflow:Assets written to: models\\assets\n",
      "\u001b[34m\u001b[1mwandb\u001b[0m: Adding directory to artifact (.\\models)... Done. 1.9s\n"
     ]
    },
    {
     "name": "stdout",
     "output_type": "stream",
     "text": [
      "856/856 [==============================] - 2764s 3s/step - loss: 0.0438 - accuracy: 0.6297 - precision_2: 0.6908 - recall_2: 0.4996 - f1_score: 0.5404 - auc_2: 0.7749 - top_k_categorical_accuracy: 0.9460 - val_loss: 0.0385 - val_accuracy: 0.6684 - val_precision_2: 0.7132 - val_recall_2: 0.5844 - val_f1_score: 0.5775 - val_auc_2: 0.8052 - val_top_k_categorical_accuracy: 0.9695\n",
      "Epoch 3/13\n",
      "856/856 [==============================] - ETA: 0s - loss: 0.0417 - accuracy: 0.6468 - precision_2: 0.7008 - recall_2: 0.5385 - f1_score: 0.5578 - auc_2: 0.7914 - top_k_categorical_accuracy: 0.9569INFO:tensorflow:Assets written to: models\\assets\n"
     ]
    },
    {
     "name": "stderr",
     "output_type": "stream",
     "text": [
      "INFO:tensorflow:Assets written to: models\\assets\n",
      "\u001b[34m\u001b[1mwandb\u001b[0m: Adding directory to artifact (.\\models)... Done. 1.7s\n"
     ]
    },
    {
     "name": "stdout",
     "output_type": "stream",
     "text": [
      "856/856 [==============================] - 2825s 3s/step - loss: 0.0417 - accuracy: 0.6468 - precision_2: 0.7008 - recall_2: 0.5385 - f1_score: 0.5578 - auc_2: 0.7914 - top_k_categorical_accuracy: 0.9569 - val_loss: 0.0391 - val_accuracy: 0.6803 - val_precision_2: 0.7128 - val_recall_2: 0.5890 - val_f1_score: 0.5897 - val_auc_2: 0.8092 - val_top_k_categorical_accuracy: 0.9814\n",
      "Epoch 4/13\n",
      "856/856 [==============================] - ETA: 0s - loss: 0.0412 - accuracy: 0.6528 - precision_2: 0.7052 - recall_2: 0.5521 - f1_score: 0.5638 - auc_2: 0.7972 - top_k_categorical_accuracy: 0.9592INFO:tensorflow:Assets written to: models\\assets\n"
     ]
    },
    {
     "name": "stderr",
     "output_type": "stream",
     "text": [
      "INFO:tensorflow:Assets written to: models\\assets\n",
      "\u001b[34m\u001b[1mwandb\u001b[0m: Adding directory to artifact (.\\models)... Done. 1.8s\n"
     ]
    },
    {
     "name": "stdout",
     "output_type": "stream",
     "text": [
      "856/856 [==============================] - 2931s 3s/step - loss: 0.0412 - accuracy: 0.6528 - precision_2: 0.7052 - recall_2: 0.5521 - f1_score: 0.5638 - auc_2: 0.7972 - top_k_categorical_accuracy: 0.9592 - val_loss: 0.0372 - val_accuracy: 0.6812 - val_precision_2: 0.7263 - val_recall_2: 0.6213 - val_f1_score: 0.5881 - val_auc_2: 0.8238 - val_top_k_categorical_accuracy: 0.9788\n",
      "Epoch 5/13\n",
      "856/856 [==============================] - ETA: 0s - loss: 0.0406 - accuracy: 0.6548 - precision_2: 0.7092 - recall_2: 0.5633 - f1_score: 0.5663 - auc_2: 0.8009 - top_k_categorical_accuracy: 0.9611INFO:tensorflow:Assets written to: models\\assets\n"
     ]
    },
    {
     "name": "stderr",
     "output_type": "stream",
     "text": [
      "INFO:tensorflow:Assets written to: models\\assets\n",
      "\u001b[34m\u001b[1mwandb\u001b[0m: Adding directory to artifact (.\\models)... Done. 4.2s\n"
     ]
    },
    {
     "name": "stdout",
     "output_type": "stream",
     "text": [
      "856/856 [==============================] - 2702s 3s/step - loss: 0.0406 - accuracy: 0.6548 - precision_2: 0.7092 - recall_2: 0.5633 - f1_score: 0.5663 - auc_2: 0.8009 - top_k_categorical_accuracy: 0.9611 - val_loss: 0.0391 - val_accuracy: 0.6754 - val_precision_2: 0.7197 - val_recall_2: 0.5974 - val_f1_score: 0.5900 - val_auc_2: 0.8168 - val_top_k_categorical_accuracy: 0.9770\n",
      "Epoch 6/13\n",
      "856/856 [==============================] - ETA: 0s - loss: 0.0395 - accuracy: 0.6644 - precision_2: 0.7117 - recall_2: 0.5800 - f1_score: 0.5764 - auc_2: 0.8072 - top_k_categorical_accuracy: 0.9666INFO:tensorflow:Assets written to: models\\assets\n"
     ]
    },
    {
     "name": "stderr",
     "output_type": "stream",
     "text": [
      "INFO:tensorflow:Assets written to: models\\assets\n",
      "\u001b[34m\u001b[1mwandb\u001b[0m: Adding directory to artifact (.\\models)... Done. 2.0s\n"
     ]
    },
    {
     "name": "stdout",
     "output_type": "stream",
     "text": [
      "856/856 [==============================] - 2602s 3s/step - loss: 0.0395 - accuracy: 0.6644 - precision_2: 0.7117 - recall_2: 0.5800 - f1_score: 0.5764 - auc_2: 0.8072 - top_k_categorical_accuracy: 0.9666 - val_loss: 0.0374 - val_accuracy: 0.6786 - val_precision_2: 0.7223 - val_recall_2: 0.6303 - val_f1_score: 0.5852 - val_auc_2: 0.8264 - val_top_k_categorical_accuracy: 0.9741\n",
      "Epoch 7/13\n",
      "856/856 [==============================] - ETA: 0s - loss: 0.0394 - accuracy: 0.6641 - precision_2: 0.7129 - recall_2: 0.5842 - f1_score: 0.5769 - auc_2: 0.8076 - top_k_categorical_accuracy: 0.9650INFO:tensorflow:Assets written to: models\\assets\n"
     ]
    },
    {
     "name": "stderr",
     "output_type": "stream",
     "text": [
      "INFO:tensorflow:Assets written to: models\\assets\n",
      "\u001b[34m\u001b[1mwandb\u001b[0m: Adding directory to artifact (.\\models)... Done. 1.7s\n"
     ]
    },
    {
     "name": "stdout",
     "output_type": "stream",
     "text": [
      "856/856 [==============================] - 2643s 3s/step - loss: 0.0394 - accuracy: 0.6641 - precision_2: 0.7129 - recall_2: 0.5842 - f1_score: 0.5769 - auc_2: 0.8076 - top_k_categorical_accuracy: 0.9650 - val_loss: 0.0377 - val_accuracy: 0.6792 - val_precision_2: 0.7284 - val_recall_2: 0.6099 - val_f1_score: 0.5890 - val_auc_2: 0.8249 - val_top_k_categorical_accuracy: 0.9727\n",
      "Epoch 8/13\n",
      "856/856 [==============================] - ETA: 0s - loss: 0.0395 - accuracy: 0.6608 - precision_2: 0.7129 - recall_2: 0.5818 - f1_score: 0.5729 - auc_2: 0.8066 - top_k_categorical_accuracy: 0.9667INFO:tensorflow:Assets written to: models\\assets\n"
     ]
    },
    {
     "name": "stderr",
     "output_type": "stream",
     "text": [
      "INFO:tensorflow:Assets written to: models\\assets\n",
      "\u001b[34m\u001b[1mwandb\u001b[0m: Adding directory to artifact (.\\models)... Done. 1.8s\n"
     ]
    },
    {
     "name": "stdout",
     "output_type": "stream",
     "text": [
      "856/856 [==============================] - 2600s 3s/step - loss: 0.0395 - accuracy: 0.6608 - precision_2: 0.7129 - recall_2: 0.5818 - f1_score: 0.5729 - auc_2: 0.8066 - top_k_categorical_accuracy: 0.9667 - val_loss: 0.0368 - val_accuracy: 0.6847 - val_precision_2: 0.7230 - val_recall_2: 0.6323 - val_f1_score: 0.5945 - val_auc_2: 0.8266 - val_top_k_categorical_accuracy: 0.9785\n",
      "Epoch 9/13\n",
      "856/856 [==============================] - ETA: 0s - loss: 0.0390 - accuracy: 0.6650 - precision_2: 0.7128 - recall_2: 0.5875 - f1_score: 0.5772 - auc_2: 0.8093 - top_k_categorical_accuracy: 0.9681INFO:tensorflow:Assets written to: models\\assets\n"
     ]
    },
    {
     "name": "stderr",
     "output_type": "stream",
     "text": [
      "INFO:tensorflow:Assets written to: models\\assets\n",
      "\u001b[34m\u001b[1mwandb\u001b[0m: Adding directory to artifact (.\\models)... Done. 1.9s\n"
     ]
    },
    {
     "name": "stdout",
     "output_type": "stream",
     "text": [
      "856/856 [==============================] - 2873s 3s/step - loss: 0.0390 - accuracy: 0.6650 - precision_2: 0.7128 - recall_2: 0.5875 - f1_score: 0.5772 - auc_2: 0.8093 - top_k_categorical_accuracy: 0.9681 - val_loss: 0.0382 - val_accuracy: 0.6763 - val_precision_2: 0.7176 - val_recall_2: 0.6105 - val_f1_score: 0.5870 - val_auc_2: 0.8212 - val_top_k_categorical_accuracy: 0.9776\n",
      "Epoch 10/13\n",
      "856/856 [==============================] - ETA: 0s - loss: 0.0385 - accuracy: 0.6683 - precision_2: 0.7168 - recall_2: 0.5918 - f1_score: 0.5806 - auc_2: 0.8111 - top_k_categorical_accuracy: 0.9695INFO:tensorflow:Assets written to: models\\assets\n"
     ]
    },
    {
     "name": "stderr",
     "output_type": "stream",
     "text": [
      "INFO:tensorflow:Assets written to: models\\assets\n",
      "\u001b[34m\u001b[1mwandb\u001b[0m: Adding directory to artifact (.\\models)... Done. 1.8s\n"
     ]
    },
    {
     "name": "stdout",
     "output_type": "stream",
     "text": [
      "856/856 [==============================] - 2895s 3s/step - loss: 0.0385 - accuracy: 0.6683 - precision_2: 0.7168 - recall_2: 0.5918 - f1_score: 0.5806 - auc_2: 0.8111 - top_k_categorical_accuracy: 0.9695 - val_loss: 0.0365 - val_accuracy: 0.6914 - val_precision_2: 0.7267 - val_recall_2: 0.6227 - val_f1_score: 0.6030 - val_auc_2: 0.8238 - val_top_k_categorical_accuracy: 0.9808\n",
      "Epoch 11/13\n",
      "856/856 [==============================] - ETA: 0s - loss: 0.0387 - accuracy: 0.6690 - precision_2: 0.7174 - recall_2: 0.5965 - f1_score: 0.5821 - auc_2: 0.8114 - top_k_categorical_accuracy: 0.9661INFO:tensorflow:Assets written to: models\\assets\n"
     ]
    },
    {
     "name": "stderr",
     "output_type": "stream",
     "text": [
      "INFO:tensorflow:Assets written to: models\\assets\n",
      "\u001b[34m\u001b[1mwandb\u001b[0m: Adding directory to artifact (.\\models)... Done. 3.7s\n"
     ]
    },
    {
     "name": "stdout",
     "output_type": "stream",
     "text": [
      "856/856 [==============================] - 2896s 3s/step - loss: 0.0387 - accuracy: 0.6690 - precision_2: 0.7174 - recall_2: 0.5965 - f1_score: 0.5821 - auc_2: 0.8114 - top_k_categorical_accuracy: 0.9661 - val_loss: 0.0385 - val_accuracy: 0.6693 - val_precision_2: 0.7221 - val_recall_2: 0.5881 - val_f1_score: 0.5834 - val_auc_2: 0.8084 - val_top_k_categorical_accuracy: 0.9639\n",
      "Epoch 12/13\n",
      "856/856 [==============================] - ETA: 0s - loss: 0.0387 - accuracy: 0.6658 - precision_2: 0.7148 - recall_2: 0.5926 - f1_score: 0.5779 - auc_2: 0.8106 - top_k_categorical_accuracy: 0.9678INFO:tensorflow:Assets written to: models\\assets\n"
     ]
    },
    {
     "name": "stderr",
     "output_type": "stream",
     "text": [
      "INFO:tensorflow:Assets written to: models\\assets\n",
      "\u001b[34m\u001b[1mwandb\u001b[0m: Adding directory to artifact (.\\models)... Done. 2.0s\n"
     ]
    },
    {
     "name": "stdout",
     "output_type": "stream",
     "text": [
      "856/856 [==============================] - 2816s 3s/step - loss: 0.0387 - accuracy: 0.6658 - precision_2: 0.7148 - recall_2: 0.5926 - f1_score: 0.5779 - auc_2: 0.8106 - top_k_categorical_accuracy: 0.9678 - val_loss: 0.0383 - val_accuracy: 0.6806 - val_precision_2: 0.7227 - val_recall_2: 0.5791 - val_f1_score: 0.5933 - val_auc_2: 0.8160 - val_top_k_categorical_accuracy: 0.9770\n",
      "Epoch 13/13\n",
      "856/856 [==============================] - ETA: 0s - loss: 0.0379 - accuracy: 0.6748 - precision_2: 0.7194 - recall_2: 0.6024 - f1_score: 0.5872 - auc_2: 0.8149 - top_k_categorical_accuracy: 0.9705INFO:tensorflow:Assets written to: models\\assets\n"
     ]
    },
    {
     "name": "stderr",
     "output_type": "stream",
     "text": [
      "INFO:tensorflow:Assets written to: models\\assets\n",
      "\u001b[34m\u001b[1mwandb\u001b[0m: Adding directory to artifact (.\\models)... Done. 1.9s\n"
     ]
    },
    {
     "name": "stdout",
     "output_type": "stream",
     "text": [
      "856/856 [==============================] - 3209s 4s/step - loss: 0.0379 - accuracy: 0.6748 - precision_2: 0.7194 - recall_2: 0.6024 - f1_score: 0.5872 - auc_2: 0.8149 - top_k_categorical_accuracy: 0.9705 - val_loss: 0.0377 - val_accuracy: 0.6847 - val_precision_2: 0.7200 - val_recall_2: 0.6102 - val_f1_score: 0.5975 - val_auc_2: 0.8220 - val_top_k_categorical_accuracy: 0.9814\n",
      "108/108 [==============================] - 459s 4s/step - loss: 5.5728 - accuracy: 0.0197 - precision: 0.0116 - recall: 2.8952e-04 - f1_score: 0.4029 - auc: 0.3551 - top_k_categorical_accuracy: 0.0510\n",
      "Test loss: 5.572769641876221\n",
      "Test accuracy: 0.019687319174408913\n"
     ]
    },
    {
     "data": {
      "text/html": [
       "Waiting for W&B process to finish... <strong style=\"color:green\">(success).</strong>"
      ],
      "text/plain": [
       "<IPython.core.display.HTML object>"
      ]
     },
     "metadata": {},
     "output_type": "display_data"
    },
    {
     "data": {
      "text/html": [
       "<style>\n",
       "    table.wandb td:nth-child(1) { padding: 0 10px; text-align: left ; width: auto;} td:nth-child(2) {text-align: left ; width: 100%}\n",
       "    .wandb-row { display: flex; flex-direction: row; flex-wrap: wrap; justify-content: flex-start; width: 100% }\n",
       "    .wandb-col { display: flex; flex-direction: column; flex-basis: 100%; flex: 1; padding: 10px; }\n",
       "    </style>\n",
       "<div class=\"wandb-row\"><div class=\"wandb-col\"><h3>Run history:</h3><br/><table class=\"wandb\"><tr><td>batch/accuracy</td><td>▁▁▂▄▄▄▅▅▅▅▆▆▆▆▆▇▆▇▇▇▇▇▆▇▆█▇▇█▇▇██▇▆▇▇▆▇█</td></tr><tr><td>batch/auc_2</td><td>▁▂▂▃▃▄▅▅▅▆▆▆▆▆▆▇▇▇▇▇▇▇▇▇▇█▇▇██▇███▇▇▇▇▇█</td></tr><tr><td>batch/batch_step</td><td>▁▁▁▂▂▂▂▂▂▃▃▃▃▃▃▄▄▄▄▄▅▅▅▅▅▅▆▆▆▆▆▇▇▇▇▇▇███</td></tr><tr><td>batch/f1_score</td><td>▁▁▁▃▃▃▄▅▅▅▅▅▅▅▅▇▆▆▇▇▇▇▆▆▆█▇▇█▇▇██▇▅▆▇▆▇▇</td></tr><tr><td>batch/learning_rate</td><td>▁▁▁▁▁▁▁▁▁▁▁▁▁▁▁▁▁▁▁▁▁▁▁▁▁▁▁▁▁▁▁▁▁▁▁▁▁▁▁▁</td></tr><tr><td>batch/loss</td><td>█▇▇▅▅▅▄▃▄▃▃▃▃▃▃▂▃▂▂▂▂▂▂▂▂▁▂▂▁▁▂▁▁▁▂▂▂▂▁▁</td></tr><tr><td>batch/precision_2</td><td>▂▂▁▄▃▃▁▅▄▄▄▄▅▅▅▇▅▅▆▆▆▇▆▆▆█▆▆█▇▇█▇▇▄▆▆▅▇▇</td></tr><tr><td>batch/recall_2</td><td>▁▂▃▃▄▄▅▅▆▆▆▆▆▆▆▇▇▇▇▇▇▇▇▇▇█▇▇██▇███▇▇▇▇██</td></tr><tr><td>batch/top_k_categorical_accuracy</td><td>▁▂▃▅▅▅▆▆▆▆▇▆▇▆▇▆▇▇▇██▇▇▇▇██▇██████▇▇▇▇██</td></tr><tr><td>epoch/accuracy</td><td>▁▃▅▆▆▇▇▇▇▇▇▇█</td></tr><tr><td>epoch/auc_2</td><td>▁▃▅▆▆▇▇▇▇██▇█</td></tr><tr><td>epoch/epoch</td><td>▁▂▂▃▃▄▅▅▆▆▇▇█</td></tr><tr><td>epoch/f1_score</td><td>▁▃▅▆▆▇▇▆▇▇▇▇█</td></tr><tr><td>epoch/learning_rate</td><td>▁▁▁▁▁▁▁▁▁▁▁▁▁</td></tr><tr><td>epoch/loss</td><td>█▆▄▄▃▂▂▂▂▂▂▂▁</td></tr><tr><td>epoch/precision_2</td><td>▁▂▄▅▆▆▇▇▇▇█▇█</td></tr><tr><td>epoch/recall_2</td><td>▁▃▅▆▆▇▇▇▇████</td></tr><tr><td>epoch/top_k_categorical_accuracy</td><td>▁▄▆▆▇▇▇▇██▇██</td></tr><tr><td>epoch/val_accuracy</td><td>▁▄▆▆▆▆▆▇▆█▅▆▇</td></tr><tr><td>epoch/val_auc_2</td><td>▁▆▆█▇███▇█▆▇▇</td></tr><tr><td>epoch/val_f1_score</td><td>▁▄▆▆▆▅▆▇▅█▅▆▇</td></tr><tr><td>epoch/val_loss</td><td>█▃▄▂▄▂▂▁▃▁▃▃▂</td></tr><tr><td>epoch/val_precision_2</td><td>▁▅▅█▆▇█▇▆█▇▇▆</td></tr><tr><td>epoch/val_recall_2</td><td>▁▆▆▇▆█▇█▇█▆▆▇</td></tr><tr><td>epoch/val_top_k_categorical_accuracy</td><td>▁▅█▇▇▆▆▇▇█▄▇█</td></tr><tr><td>test_accuracy</td><td>▁</td></tr><tr><td>test_loss</td><td>▁</td></tr></table><br/></div><div class=\"wandb-col\"><h3>Run summary:</h3><br/><table class=\"wandb\"><tr><td>batch/accuracy</td><td>0.67476</td></tr><tr><td>batch/auc_2</td><td>0.81487</td></tr><tr><td>batch/batch_step</td><td>11175</td></tr><tr><td>batch/f1_score</td><td>0.58721</td></tr><tr><td>batch/learning_rate</td><td>0.001</td></tr><tr><td>batch/loss</td><td>0.03787</td></tr><tr><td>batch/precision_2</td><td>0.71941</td></tr><tr><td>batch/recall_2</td><td>0.60235</td></tr><tr><td>batch/top_k_categorical_accuracy</td><td>0.97047</td></tr><tr><td>epoch/accuracy</td><td>0.67476</td></tr><tr><td>epoch/auc_2</td><td>0.81487</td></tr><tr><td>epoch/epoch</td><td>12</td></tr><tr><td>epoch/f1_score</td><td>0.58721</td></tr><tr><td>epoch/learning_rate</td><td>0.001</td></tr><tr><td>epoch/loss</td><td>0.03787</td></tr><tr><td>epoch/precision_2</td><td>0.71941</td></tr><tr><td>epoch/recall_2</td><td>0.60235</td></tr><tr><td>epoch/top_k_categorical_accuracy</td><td>0.97047</td></tr><tr><td>epoch/val_accuracy</td><td>0.6847</td></tr><tr><td>epoch/val_auc_2</td><td>0.82197</td></tr><tr><td>epoch/val_f1_score</td><td>0.5975</td></tr><tr><td>epoch/val_loss</td><td>0.0377</td></tr><tr><td>epoch/val_precision_2</td><td>0.71997</td></tr><tr><td>epoch/val_recall_2</td><td>0.61024</td></tr><tr><td>epoch/val_top_k_categorical_accuracy</td><td>0.98138</td></tr><tr><td>test_accuracy</td><td>0.01969</td></tr><tr><td>test_loss</td><td>5.57277</td></tr></table><br/></div></div>"
      ],
      "text/plain": [
       "<IPython.core.display.HTML object>"
      ]
     },
     "metadata": {},
     "output_type": "display_data"
    },
    {
     "data": {
      "text/html": [
       " View run <strong style=\"color:#cdcd00\">expert-firefly-7</strong> at: <a href='https://wandb.ai/reubens-team/Recognition%20of%20expressive%20symbols%20in%20handwritten%20sheet%20music/runs/666jm9oj' target=\"_blank\">https://wandb.ai/reubens-team/Recognition%20of%20expressive%20symbols%20in%20handwritten%20sheet%20music/runs/666jm9oj</a><br/>Synced 5 W&B file(s), 0 media file(s), 130 artifact file(s) and 0 other file(s)"
      ],
      "text/plain": [
       "<IPython.core.display.HTML object>"
      ]
     },
     "metadata": {},
     "output_type": "display_data"
    },
    {
     "data": {
      "text/html": [
       "Find logs at: <code>.\\wandb\\run-20230927_144853-666jm9oj\\logs</code>"
      ],
      "text/plain": [
       "<IPython.core.display.HTML object>"
      ]
     },
     "metadata": {},
     "output_type": "display_data"
    }
   ],
   "source": [
    "import wandb\n",
    "from wandb.keras import WandbMetricsLogger, WandbModelCheckpoint\n",
    "\n",
    "# start a new wandb run to track this script\n",
    "wandb.init(project=\"Recognition of expressive symbols in handwritten sheet music\")\n",
    "\n",
    "wandb.config.epochs = 13\n",
    "wandb.config.batch_size = batch_size\n",
    "\n",
    "early_stop = keras.callbacks.EarlyStopping(monitor='val_loss', patience=5)\n",
    "\n",
    "svm_history = svm.fit(\n",
    "    train_generator,\n",
    "    epochs=13,\n",
    "    validation_data=validation_generator,\n",
    "    callbacks=[early_stop, \n",
    "                WandbMetricsLogger(log_freq=5),\n",
    "                WandbModelCheckpoint(\"models\")]\n",
    ")\n",
    "\n",
    "#Evaluate the model using the test set\n",
    "test_results = cnn.evaluate(test_generator)\n",
    "print(\"Test loss:\", test_results[0])\n",
    "print(\"Test accuracy:\", test_results[1])\n",
    "\n",
    "wandb.log({\"test_loss\": test_results[0], \"test_accuracy\": test_results[1]})\n",
    "\n",
    "wandb.finish()"
   ]
  },
  {
   "cell_type": "code",
   "execution_count": 12,
   "metadata": {},
   "outputs": [
    {
     "name": "stdout",
     "output_type": "stream",
     "text": [
      "108/108 [==============================] - 243s 2s/step - loss: 0.0380 - accuracy: 0.6789 - precision_2: 0.7184 - recall_2: 0.6129 - f1_score: 0.5923 - auc_2: 0.8213 - top_k_categorical_accuracy: 0.9835\n",
      "Test loss: 0.03796811401844025\n",
      "Test accuracy: 0.6789230108261108\n"
     ]
    }
   ],
   "source": [
    "#Evaluate the model using the test set\n",
    "test_results = svm.evaluate(test_generator)\n",
    "print(\"Test loss:\", test_results[0])\n",
    "print(\"Test accuracy:\", test_results[1])"
   ]
  },
  {
   "cell_type": "code",
   "execution_count": 13,
   "metadata": {},
   "outputs": [],
   "source": [
    "svm.save('.\\\\models\\\\svm_pre-trained_2.keras')"
   ]
  },
  {
   "attachments": {},
   "cell_type": "markdown",
   "metadata": {},
   "source": [
    "We can also use matplotlib to visualise the training progress by using the \"cnn_history\" variable to plot the training and validation accuracy and loss over time."
   ]
  },
  {
   "cell_type": "code",
   "execution_count": 16,
   "metadata": {},
   "outputs": [
    {
     "data": {
      "image/png": "[encoded data removed]",
      "text/plain": [
       "<Figure size 432x288 with 1 Axes>"
      ]
     },
     "metadata": {
      "needs_background": "light"
     },
     "output_type": "display_data"
    },
    {
     "data": {
      "image/png": "[encoded data removed]",
      "text/plain": [
       "<Figure size 432x288 with 1 Axes>"
      ]
     },
     "metadata": {
      "needs_background": "light"
     },
     "output_type": "display_data"
    }
   ],
   "source": [
    "\n",
    "\n",
    "plt.plot(svm_history.history['accuracy'])\n",
    "plt.plot(svm_history.history['val_accuracy'])\n",
    "plt.title('Model accuracy')\n",
    "plt.xlabel('Epoch')\n",
    "plt.ylabel('Accuracy')\n",
    "plt.legend(['Train', 'Validation'], loc='upper left')\n",
    "plt.show()\n",
    "\n",
    "# Plot training & validation loss values\n",
    "plt.plot(svm_history.history['loss'])\n",
    "plt.plot(svm_history.history['val_loss'])\n",
    "plt.title('Model loss')\n",
    "plt.xlabel('Epoch')\n",
    "plt.ylabel('Loss')\n",
    "plt.legend(['Train', 'Validation'], loc='upper left')\n",
    "plt.show()"
   ]
  }
 ],
 "metadata": {
  "kernelspec": {
   "display_name": "Python 3",
   "language": "python",
   "name": "python3"
  },
  "language_info": {
   "codemirror_mode": {
    "name": "ipython",
    "version": 3
   },
   "file_extension": ".py",
   "mimetype": "text/x-python",
   "name": "python",
   "nbconvert_exporter": "python",
   "pygments_lexer": "ipython3",
   "version": "3.9.5"
  },
  "orig_nbformat": 4
 },
 "nbformat": 4,
 "nbformat_minor": 2
}

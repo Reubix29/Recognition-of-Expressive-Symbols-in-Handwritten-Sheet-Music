{
 "cells": [
  {
   "cell_type": "code",
   "execution_count": null,
   "metadata": {},
   "outputs": [],
   "source": [
    "from omrdatasettools.Downloader import Downloader\n",
    "from omrdatasettools.OmrDataset import OmrDataset\n",
    "from omrdatasettools.MuscimaPlusPlusSymbolImageGenerator import MuscimaPlusPlusSymbolImageGenerator"
   ]
  },
  {
   "attachments": {},
   "cell_type": "markdown",
   "metadata": {},
   "source": [
    "The downloader module is used to extract the raw information about the datasets into the ./data folder"
   ]
  },
  {
   "cell_type": "code",
   "execution_count": null,
   "metadata": {},
   "outputs": [],
   "source": [
    "downloader = Downloader()"
   ]
  },
  {
   "cell_type": "code",
   "execution_count": null,
   "metadata": {},
   "outputs": [],
   "source": [
    "downloader.download_and_extract_dataset(OmrDataset.MuscimaPlusPlus_V2, \"data/muscima_pp_v2\")"
   ]
  },
  {
   "attachments": {},
   "cell_type": "markdown",
   "metadata": {},
   "source": [
    "The generated raw files are then used to draw the images of the dataset on canvases and store them in different folders."
   ]
  },
  {
   "cell_type": "code",
   "execution_count": null,
   "metadata": {},
   "outputs": [],
   "source": [
    "muscima_generator = MuscimaPlusPlusSymbolImageGenerator()\n",
    "muscima_generator.extract_and_render_all_symbol_masks(\"./data/muscima_pp_v2/\", \"./data/muscima_pp_v2_symbols/\")\n"
   ]
  },
  {
   "attachments": {},
   "cell_type": "markdown",
   "metadata": {},
   "source": [
    "Before training the models, the images first have to be resized to be a standard size."
   ]
  },
  {
   "attachments": {},
   "cell_type": "markdown",
   "metadata": {},
   "source": [
    "First, let's find out what the max height and width is, and use those values to resize all the images"
   ]
  },
  {
   "cell_type": "code",
   "execution_count": null,
   "metadata": {},
   "outputs": [],
   "source": [
    "from PIL import Image\n",
    "import os\n",
    "\n",
    "# Specify the root folder containing your images\n",
    "root_folder = \".\\\\data\\\\muscima_pp_v2_symbols\"\n",
    "\n",
    "# Desired width to search for\n",
    "desired_width = 861\n",
    "\n",
    "# Initialize a list to store image file paths that match the desired width\n",
    "matching_images = []\n",
    "\n",
    "# Iterate through all subfolders and their images\n",
    "for foldername, subfolders, filenames in os.walk(root_folder):\n",
    "    for filename in filenames:\n",
    "        if filename.endswith((\".jpg\", \".jpeg\", \".png\", \".gif\", \".bmp\")):\n",
    "            image_path = os.path.join(foldername, filename)\n",
    "            image = Image.open(image_path)\n",
    "            _, height = image.size\n",
    "            if height == desired_width:\n",
    "                matching_images.append(image_path)\n",
    "\n",
    "# Print the paths of images with the desired width\n",
    "if matching_images:\n",
    "    print(\"Images with a width of 1153 pixels:\")\n",
    "    for image_path in matching_images:\n",
    "        print(image_path)\n",
    "else:\n",
    "    print(\"No images with a width of 1153 pixels found.\")"
   ]
  },
  {
   "cell_type": "code",
   "execution_count": 1,
   "metadata": {},
   "outputs": [
    {
     "name": "stdout",
     "output_type": "stream",
     "text": [
      "All images in subfolders have been resized to the maximum width and height.\n"
     ]
    }
   ],
   "source": [
    "from PIL import Image\n",
    "import os\n",
    "\n",
    "# Specify the root folder containing subfolders with images\n",
    "root_folder = \".\\\\data\\\\muscima_pp_v2_symbols\"\n",
    "\n",
    "# Initialize variables to store maximum width and height\n",
    "max_width = 0\n",
    "max_height = 0\n",
    "\n",
    "# Iterate through all subfolders and their images to find maximum width and height\n",
    "for foldername, subfolders, filenames in os.walk(root_folder):\n",
    "    for filename in filenames:\n",
    "        if filename.endswith((\".jpg\", \".jpeg\", \".png\", \".gif\", \".bmp\")):\n",
    "            image_path = os.path.join(foldername, filename)\n",
    "            image = Image.open(image_path)\n",
    "            width, height = image.size\n",
    "            max_width = max(max_width, width)\n",
    "            max_height = max(max_height, height)\n",
    "\n",
    "# Iterate through all subfolders and their images again and pad them\n",
    "for foldername, subfolders, filenames in os.walk(root_folder):\n",
    "    for filename in filenames:\n",
    "        if filename.endswith((\".jpg\", \".jpeg\", \".png\", \".gif\", \".bmp\")):\n",
    "            image_path = os.path.join(foldername, filename)\n",
    "            image = Image.open(image_path)\n",
    "            \n",
    "            # Calculate padding dimensions\n",
    "            padding_width = max_width - image.width\n",
    "            padding_height = max_height - image.height\n",
    "            \n",
    "            # Create a new image with white padding\n",
    "            padded_image = Image.new(\"RGB\", (max_width, max_height), (255, 255, 255))\n",
    "            \n",
    "            # Calculate the position to paste the original image (centered)\n",
    "            paste_x = padding_width // 2\n",
    "            paste_y = padding_height // 2\n",
    "            \n",
    "            # Paste the original image onto the padded image\n",
    "            padded_image.paste(image, (paste_x, paste_y))\n",
    "            \n",
    "            # Save the padded image, overwriting the original\n",
    "            padded_image.save(image_path)\n",
    "\n",
    "print(\"All images in subfolders have been resized to the maximum width and height.\")"
   ]
  },
  {
   "attachments": {},
   "cell_type": "markdown",
   "metadata": {},
   "source": [
    "At this stage, the images are quite large. To aid in training, we can reduce the size by 50%."
   ]
  },
  {
   "cell_type": "code",
   "execution_count": 2,
   "metadata": {},
   "outputs": [
    {
     "name": "stdout",
     "output_type": "stream",
     "text": [
      "All images in subfolders have been resized to 50% of their size while preserving aspect ratio and stored in corresponding output subfolders.\n"
     ]
    }
   ],
   "source": [
    "from PIL import Image\n",
    "import os\n",
    "\n",
    "# Specify the root folder containing the padded images\n",
    "root_folder = \".\\\\data\\\\muscima_pp_v2_symbols\"\n",
    "\n",
    "# Initialize the output folder\n",
    "output_root_folder = \".\\\\data\\\\muscima_pp_v2_symbols_resized\"\n",
    "\n",
    "# Create the output root folder if it doesn't exist\n",
    "if not os.path.exists(output_root_folder):\n",
    "    os.makedirs(output_root_folder)\n",
    "\n",
    "# Specify the scale factor for resizing (50% in this case)\n",
    "scale_factor = 0.5\n",
    "\n",
    "# Iterate through all subfolders and their images\n",
    "for foldername, subfolders, filenames in os.walk(root_folder):\n",
    "    # Create the corresponding subfolder structure in the output directory\n",
    "    relative_folder = os.path.relpath(foldername, root_folder)\n",
    "    output_folder = os.path.join(output_root_folder, relative_folder)\n",
    "    os.makedirs(output_folder, exist_ok=True)\n",
    "\n",
    "    for filename in filenames:\n",
    "        if filename.endswith((\".jpg\", \".jpeg\", \".png\", \".gif\", \".bmp\")):\n",
    "            image_path = os.path.join(foldername, filename)\n",
    "            image = Image.open(image_path)\n",
    "\n",
    "            # Calculate the new dimensions while preserving aspect ratio\n",
    "            width, height = image.size\n",
    "            new_width = int(width * scale_factor)\n",
    "            new_height = int(height * scale_factor)\n",
    "\n",
    "            # Resize the image\n",
    "            resized_image = image.resize((new_width, new_height))\n",
    "\n",
    "            # Save the resized image to the corresponding output subfolder\n",
    "            output_path = os.path.join(output_folder, filename)\n",
    "            resized_image.save(output_path)\n",
    "\n",
    "print(\"All images in subfolders have been resized to 50% of their size while preserving aspect ratio and stored in corresponding output subfolders.\")"
   ]
  },
  {
   "attachments": {},
   "cell_type": "markdown",
   "metadata": {},
   "source": [
    "We can also try to supplement the dataset by rotating the images 10, -10, 15 and -15 degrees."
   ]
  },
  {
   "cell_type": "code",
   "execution_count": 3,
   "metadata": {},
   "outputs": [],
   "source": [
    "import os\n",
    "\n",
    "root_folder = \".\\\\data\\\\muscima_pp_v2_symbols_resized\"\n",
    "\n",
    "output_root_folder = \".\\\\data\\\\muscima_pp_v2_symbols_resized_rotated\"\n",
    "\n",
    "# This list can be extended with more degrees as needed\n",
    "rotate_degrees = [10, 15, -10, -15] \n",
    "\n",
    "for foldername, subfolders, filenames in os.walk(root_folder):\n",
    "    # Create the corresponding subfolder structure in the output directory\n",
    "    relative_folder = os.path.relpath(foldername, root_folder)\n",
    "    output_folder = os.path.join(output_root_folder, relative_folder)\n",
    "    os.makedirs(output_folder, exist_ok=True)\n",
    "    \n",
    "    for filename in filenames:\n",
    "        if filename.endswith((\".jpg\", \".jpeg\", \".png\", \".gif\", \".bmp\")):\n",
    "            # Get the full image path\n",
    "            image_path = os.path.join(foldername, filename)\n",
    "            image = Image.open(image_path)\n",
    "\n",
    "            # Get image dimensions\n",
    "            height, width = image.size\n",
    "\n",
    "            # Save the original image to the output folder\n",
    "            original_image_path = os.path.join(output_folder, filename)\n",
    "            image.save(original_image_path)\n",
    "\n",
    "            for degree in rotate_degrees:\n",
    "                new_image = image.rotate(degree, fillcolor=(255, 255, 255))\n",
    "\n",
    "                # Get the original file extension\n",
    "                file_extension = os.path.splitext(filename)[-1]\n",
    "\n",
    "                # Save the rotated image with a new filename in the output folder\n",
    "                new_filename = filename.replace(file_extension, f\"_rotated{degree}{file_extension}\")\n",
    "                new_image_path = os.path.join(output_folder, new_filename)\n",
    "                new_image.save(new_image_path)"
   ]
  },
  {
   "attachments": {},
   "cell_type": "markdown",
   "metadata": {},
   "source": [
    "It may also be useful to randomly add images where some features are missing to the training dataset, to avoid overfitting."
   ]
  },
  {
   "cell_type": "code",
   "execution_count": 18,
   "metadata": {},
   "outputs": [],
   "source": [
    "from PIL import Image, ImageDraw\n",
    "import random\n",
    "import os\n",
    "\n",
    "root_folder = \".\\\\data\\\\train\"\n",
    "\n",
    "output_root_folder = \".\\\\data\\\\train_cut\"\n",
    "\n",
    "for foldername, subfolders, filenames in os.walk(root_folder):\n",
    "    x = 10  # Change this to the desired number of random numbers, i.e., the number of images to cut\n",
    "\n",
    "    # Generate x random numbers between 0 and 99\n",
    "    random_numbers = [random.randint(0, 99) for _ in range(x)]\n",
    "    \n",
    "    # Create the corresponding subfolder structure in the output directory\n",
    "    relative_folder = os.path.relpath(foldername, root_folder)\n",
    "    output_folder = os.path.join(output_root_folder, relative_folder)\n",
    "    os.makedirs(output_folder, exist_ok=True)\n",
    "    \n",
    "    for filename in filenames:\n",
    "        if (filenames.index(filename) in random_numbers) and filename.endswith((\".jpg\", \".jpeg\", \".png\", \".gif\", \".bmp\")):\n",
    "            # Get the full image path\n",
    "            image_path = os.path.join(foldername, filename)\n",
    "            # Open the image\n",
    "            image = Image.open(image_path)\n",
    "\n",
    "            # Get the dimensions of the image\n",
    "            width, height = image.size\n",
    "            \n",
    "            # Save the original image to the output folder\n",
    "            original_image_path = os.path.join(output_folder, filename)\n",
    "            image.save(original_image_path)\n",
    "\n",
    "            # Create a new blank image with the same size and white background\n",
    "            output_image = Image.new(\"RGB\", (width, height), \"white\")\n",
    "\n",
    "            # Create a draw object to manipulate the new image\n",
    "            draw = ImageDraw.Draw(output_image)\n",
    "\n",
    "            # Define the coordinates for the top half of the image\n",
    "            top_half = (0, 0, width, height // 2)\n",
    "\n",
    "            # Paste the top half of the input image onto the new image\n",
    "            output_image.paste(image.crop(top_half))\n",
    "\n",
    "            file_extension = os.path.splitext(filename)[-1]\n",
    "\n",
    "            # Save the cut image with a new filename in the output folder\n",
    "            new_filename = filename.replace(file_extension, f\"_cut{file_extension}\")\n",
    "            new_image_path = os.path.join(output_folder, new_filename)\n",
    "            # Save the resulting image\n",
    "            output_image.save(new_image_path)\n",
    "\n",
    "            # Close the input and output images\n",
    "            image.close()\n",
    "            output_image.close()\n",
    "        else:\n",
    "            # Get the full image path\n",
    "            image_path = os.path.join(foldername, filename)\n",
    "            # Open the image\n",
    "            image = Image.open(image_path)\n",
    "            \n",
    "            # Save the original image to the output folder\n",
    "            original_image_path = os.path.join(output_folder, filename)\n",
    "            image.save(original_image_path)"
   ]
  },
  {
   "attachments": {},
   "cell_type": "markdown",
   "metadata": {},
   "source": [
    "Salt and Pepper noise can also be added to a random selection of images."
   ]
  },
  {
   "cell_type": "code",
   "execution_count": 1,
   "metadata": {},
   "outputs": [],
   "source": [
    "from PIL import Image, ImageDraw\n",
    "import numpy as np\n",
    "import random\n",
    "import os\n",
    "\n",
    "root_folder = \".\\\\data\\\\train_cut\"\n",
    "\n",
    "output_root_folder = \".\\\\data\\\\train_salt_and_pepper\"\n",
    "\n",
    "for foldername, subfolders, filenames in os.walk(root_folder):\n",
    "    x = 10  # Change this to the desired number of random numbers, i.e., the number of images to cut\n",
    "\n",
    "    # Generate x random numbers between 0 and 99\n",
    "    random_numbers = [random.randint(0, 99) for _ in range(x)]\n",
    "    \n",
    "    # Create the corresponding subfolder structure in the output directory\n",
    "    relative_folder = os.path.relpath(foldername, root_folder)\n",
    "    output_folder = os.path.join(output_root_folder, relative_folder)\n",
    "    os.makedirs(output_folder, exist_ok=True)\n",
    "    \n",
    "    for filename in filenames:\n",
    "        if (filenames.index(filename) in random_numbers) and filename.endswith((\".jpg\", \".jpeg\", \".png\", \".gif\", \".bmp\")):\n",
    "            # Get the full image path\n",
    "            image_path = os.path.join(foldername, filename)\n",
    "            # Open the image\n",
    "            image = Image.open(image_path)\n",
    "            \n",
    "            # Save the original image to the output folder\n",
    "            original_image_path = os.path.join(output_folder, filename)\n",
    "            image.save(original_image_path)\n",
    "\n",
    "            # Convert the image to a numpy array for easy manipulation\n",
    "            image_array = np.array(image)\n",
    "\n",
    "            # Define the probability of adding salt and pepper noise\n",
    "            noise_probability = 0.02  # You can adjust this value\n",
    "\n",
    "            # Get the dimensions of the image\n",
    "            height, width, channels = image_array.shape\n",
    "\n",
    "            # Generate random noise\n",
    "            for i in range(height):\n",
    "                for j in range(width):\n",
    "                    rand = random.random()\n",
    "                    if rand < noise_probability / 2:\n",
    "                        image_array[i, j] = [0, 0, 0]  # Pepper noise\n",
    "                    elif rand < noise_probability:\n",
    "                        image_array[i, j] = [255, 255, 255]  # Salt noise\n",
    "\n",
    "            # Convert the numpy array back to an image\n",
    "            noisy_image = Image.fromarray(image_array)\n",
    "\n",
    "            file_extension = os.path.splitext(filename)[-1]\n",
    "\n",
    "            # Save the cut image with a new filename in the output folder\n",
    "            new_filename = filename.replace(file_extension, f\"_salt_and_pepper{file_extension}\")\n",
    "            new_image_path = os.path.join(output_folder, new_filename)\n",
    "            # Save the resulting image\n",
    "            noisy_image.save(new_image_path)\n",
    "\n",
    "            # Close the input and output images\n",
    "            image.close()\n",
    "            noisy_image.close()\n",
    "        else:\n",
    "            # Get the full image path\n",
    "            image_path = os.path.join(foldername, filename)\n",
    "            # Open the image\n",
    "            image = Image.open(image_path)\n",
    "            \n",
    "            # Save the original image to the output folder\n",
    "            original_image_path = os.path.join(output_folder, filename)\n",
    "            image.save(original_image_path)"
   ]
  },
  {
   "attachments": {},
   "cell_type": "markdown",
   "metadata": {},
   "source": [
    "Now the data is normalised, it is time to split the dataset and train the Convolutional Neural Network (CNN) and the Support Vector Machine (SVM)."
   ]
  },
  {
   "cell_type": "code",
   "execution_count": 4,
   "metadata": {},
   "outputs": [],
   "source": [
    "import tensorflow as tf\n",
    "from tensorflow import keras\n",
    "from tensorflow.keras import layers\n",
    "from tensorflow.keras.models import Sequential\n",
    "from tensorflow.keras.preprocessing.image import ImageDataGenerator\n",
    "from sklearn.model_selection import train_test_split\n",
    "import matplotlib.pyplot as plt\n",
    "import os\n",
    "import numpy as np"
   ]
  },
  {
   "attachments": {},
   "cell_type": "markdown",
   "metadata": {},
   "source": [
    "First we need to split the data into training, test and validation datasets."
   ]
  },
  {
   "cell_type": "code",
   "execution_count": 17,
   "metadata": {},
   "outputs": [
    {
     "name": "stdout",
     "output_type": "stream",
     "text": [
      "Images have been split and copied to the train, validation, and test folders.\n"
     ]
    }
   ],
   "source": [
    "import os\n",
    "import shutil\n",
    "import random\n",
    "\n",
    "# Define the source folder containing subfolders with images\n",
    "source_folder = \".\\\\data\\\\muscima_pp_v2_symbols_resized_rotated\"\n",
    "\n",
    "# Define the destination folders\n",
    "train_folder = \".\\\\data\\\\train\"\n",
    "validation_folder = \".\\\\data\\\\validation\"\n",
    "test_folder = \".\\\\data\\\\test\"\n",
    "\n",
    "# Define the split ratios (80% train, 10% validation, 10% test)\n",
    "train_ratio = 0.8\n",
    "validation_ratio = 0.1\n",
    "test_ratio = 0.1\n",
    "\n",
    "# Iterate through subfolders in the source folder\n",
    "for root, dirs, files in os.walk(source_folder):\n",
    "    # Calculate the number of images to copy for each split\n",
    "    num_files = len(files)\n",
    "    num_train = int(num_files * train_ratio)\n",
    "    num_validation = int(num_files * validation_ratio)\n",
    "    num_test = num_files - num_train - num_validation\n",
    "\n",
    "    # Randomly shuffle the files in each subfolder\n",
    "    random.shuffle(files)\n",
    "\n",
    "    # Copy files to the destination folders based on the split ratios\n",
    "    for i, file_name in enumerate(files):\n",
    "        src_path = os.path.join(root, file_name)\n",
    "        if i < num_train:\n",
    "            dest_path = os.path.join(train_folder, root[len(source_folder) + 1:], file_name)\n",
    "        elif i < num_train + num_validation:\n",
    "            dest_path = os.path.join(validation_folder, root[len(source_folder) + 1:], file_name)\n",
    "        else:\n",
    "            dest_path = os.path.join(test_folder, root[len(source_folder) + 1:], file_name)\n",
    "\n",
    "        # Ensure the destination directory exists\n",
    "        os.makedirs(os.path.dirname(dest_path), exist_ok=True)\n",
    "\n",
    "        # Copy the file\n",
    "        shutil.copy(src_path, dest_path)\n",
    "\n",
    "print(\"Images have been split and copied to the train, validation, and test folders.\")"
   ]
  },
  {
   "attachments": {},
   "cell_type": "markdown",
   "metadata": {},
   "source": [
    "Now to make the image generators from the different folders"
   ]
  },
  {
   "cell_type": "code",
   "execution_count": 20,
   "metadata": {},
   "outputs": [
    {
     "name": "stdout",
     "output_type": "stream",
     "text": [
      "Number of classes: 35\n",
      "Found 27082 images belonging to 35 classes.\n",
      "Found 3341 images belonging to 35 classes.\n",
      "Found 3359 images belonging to 35 classes.\n"
     ]
    }
   ],
   "source": [
    "from PIL import Image\n",
    "import numpy as np\n",
    "\n",
    "# Define the path to your dataset directory\n",
    "train_dir = '.\\\\data\\\\train_cut'\n",
    "test_dir = '.\\\\data\\\\test'\n",
    "validation_dir = '.\\\\data\\\\validation'\n",
    "\n",
    "\n",
    "# Define the size of your input images\n",
    "input_size = (344, 126)\n",
    "\n",
    "# Define the batch size\n",
    "batch_size = 32\n",
    "\n",
    "# Define the number of classes in your dataset\n",
    "num_classes = len(os.listdir(train_dir))\n",
    "print(f\"Number of classes: {num_classes}\")\n",
    "\n",
    "# Create an ImageDataGenerator for data augmentation\n",
    "train_datagen = ImageDataGenerator(\n",
    "    rescale=1./255,\n",
    "    shear_range=0.2,\n",
    "    zoom_range=0.2,\n",
    "    horizontal_flip=True\n",
    ")\n",
    "\n",
    "# Create an ImageDataGenerator for validation and test data (without augmentation)\n",
    "val_test_datagen = ImageDataGenerator(rescale=1./255)\n",
    "\n",
    "# Load and split the data into train, validation, and test sets\n",
    "train_generator = train_datagen.flow_from_directory(\n",
    "    train_dir,\n",
    "    target_size=input_size,\n",
    "    batch_size=batch_size,\n",
    "    class_mode='categorical',\n",
    "    subset='training'  # Specify training subset\n",
    ")\n",
    "\n",
    "validation_generator = val_test_datagen.flow_from_directory(\n",
    "    validation_dir,\n",
    "    target_size=input_size,\n",
    "    batch_size=batch_size,\n",
    "    class_mode='categorical'\n",
    ")\n",
    "\n",
    "test_generator = val_test_datagen.flow_from_directory(\n",
    "    test_dir,\n",
    "    target_size=input_size,\n",
    "    batch_size=batch_size,\n",
    "    class_mode='categorical'\n",
    ")\n"
   ]
  },
  {
   "attachments": {},
   "cell_type": "markdown",
   "metadata": {},
   "source": [
    "First, let's build and compile the CNN model."
   ]
  },
  {
   "cell_type": "code",
   "execution_count": 21,
   "metadata": {},
   "outputs": [],
   "source": [
    "cnn = Sequential([\n",
    "    layers.Conv2D(32, (3, 3), activation='relu', input_shape=(344, 126, 3)),\n",
    "    layers.MaxPooling2D((2, 2)),\n",
    "    layers.Conv2D(64, (3, 3), activation='relu'),\n",
    "    layers.MaxPooling2D((2, 2)),\n",
    "    layers.Flatten(),\n",
    "    layers.Dense(128, activation='relu'),\n",
    "    layers.Dense(num_classes, activation='softmax') \n",
    "])\n",
    "\n",
    "cnn.compile(optimizer='adam',\n",
    "            loss='categorical_crossentropy',\n",
    "            metrics=['accuracy'])\n"
   ]
  },
  {
   "attachments": {},
   "cell_type": "markdown",
   "metadata": {},
   "source": [
    "After compilation, we can train the model using the test and validation sets. These results are then stored in cnn_history. After this, the model is evaluated using the test set."
   ]
  },
  {
   "cell_type": "code",
   "execution_count": 1,
   "metadata": {},
   "outputs": [
    {
     "name": "stdout",
     "output_type": "stream",
     "text": [
      "2.13.0\n",
      "cuDNN available: False\n",
      "cuDNN version: \n"
     ]
    },
    {
     "data": {
      "text/plain": [
       "[]"
      ]
     },
     "execution_count": 1,
     "metadata": {},
     "output_type": "execute_result"
    }
   ],
   "source": [
    "import tensorflow as tf\n",
    "print(tf.__version__)\n",
    "print(\"cuDNN available:\", tf.test.is_built_with_cuda())\n",
    "\n",
    "# Check cuDNN version\n",
    "print(\"cuDNN version:\", tf.test.gpu_device_name())\n",
    "tf.config.list_physical_devices('GPU')"
   ]
  },
  {
   "cell_type": "code",
   "execution_count": 22,
   "metadata": {},
   "outputs": [
    {
     "name": "stdout",
     "output_type": "stream",
     "text": [
      "Epoch 1/50\n",
      "847/847 [==============================] - 617s 728ms/step - loss: 1.5031 - accuracy: 0.4623 - val_loss: 1.3029 - val_accuracy: 0.5163\n",
      "Epoch 2/50\n",
      "847/847 [==============================] - 619s 731ms/step - loss: 1.1796 - accuracy: 0.5270 - val_loss: 1.1876 - val_accuracy: 0.5163\n",
      "Epoch 3/50\n",
      "847/847 [==============================] - 580s 685ms/step - loss: 1.0454 - accuracy: 0.5640 - val_loss: 1.1401 - val_accuracy: 0.5403\n",
      "Epoch 4/50\n",
      "847/847 [==============================] - 674s 796ms/step - loss: 0.9721 - accuracy: 0.5847 - val_loss: 0.9155 - val_accuracy: 0.6040\n",
      "Epoch 5/50\n",
      "847/847 [==============================] - 649s 766ms/step - loss: 0.9014 - accuracy: 0.6063 - val_loss: 0.8135 - val_accuracy: 0.6399\n",
      "Epoch 6/50\n",
      "847/847 [==============================] - 623s 735ms/step - loss: 0.8647 - accuracy: 0.6183 - val_loss: 0.7791 - val_accuracy: 0.6540\n",
      "Epoch 7/50\n",
      "847/847 [==============================] - 629s 742ms/step - loss: 0.8302 - accuracy: 0.6292 - val_loss: 0.8009 - val_accuracy: 0.6447\n",
      "Epoch 8/50\n",
      "847/847 [==============================] - 620s 732ms/step - loss: 0.8129 - accuracy: 0.6362 - val_loss: 0.7966 - val_accuracy: 0.6501\n",
      "Epoch 9/50\n",
      "847/847 [==============================] - 597s 705ms/step - loss: 0.7950 - accuracy: 0.6414 - val_loss: 0.7688 - val_accuracy: 0.6513\n",
      "Epoch 10/50\n",
      "847/847 [==============================] - 586s 692ms/step - loss: 0.7861 - accuracy: 0.6405 - val_loss: 0.7541 - val_accuracy: 0.6549\n",
      "Epoch 11/50\n",
      "847/847 [==============================] - 587s 692ms/step - loss: 0.7682 - accuracy: 0.6501 - val_loss: 0.7421 - val_accuracy: 0.6639\n",
      "Epoch 12/50\n",
      "847/847 [==============================] - 590s 696ms/step - loss: 0.7627 - accuracy: 0.6472 - val_loss: 0.7540 - val_accuracy: 0.5672\n",
      "Epoch 13/50\n",
      "847/847 [==============================] - 603s 712ms/step - loss: 0.7576 - accuracy: 0.6532 - val_loss: 0.7206 - val_accuracy: 0.6657\n",
      "Epoch 14/50\n",
      "847/847 [==============================] - 605s 715ms/step - loss: 0.7447 - accuracy: 0.6572 - val_loss: 0.6875 - val_accuracy: 0.6740\n",
      "Epoch 15/50\n",
      "847/847 [==============================] - 602s 710ms/step - loss: 0.7309 - accuracy: 0.6597 - val_loss: 0.7575 - val_accuracy: 0.6525\n",
      "Epoch 16/50\n",
      "847/847 [==============================] - 581s 686ms/step - loss: 0.7227 - accuracy: 0.6625 - val_loss: 0.7402 - val_accuracy: 0.6600\n",
      "Epoch 17/50\n",
      "847/847 [==============================] - 573s 676ms/step - loss: 0.7185 - accuracy: 0.6637 - val_loss: 0.7025 - val_accuracy: 0.6848\n",
      "Epoch 18/50\n",
      "847/847 [==============================] - 558s 659ms/step - loss: 0.7126 - accuracy: 0.6683 - val_loss: 0.6658 - val_accuracy: 0.6806\n",
      "Epoch 19/50\n",
      "847/847 [==============================] - 563s 664ms/step - loss: 0.7095 - accuracy: 0.6679 - val_loss: 0.6954 - val_accuracy: 0.6711\n",
      "Epoch 20/50\n",
      "847/847 [==============================] - 570s 672ms/step - loss: 0.7090 - accuracy: 0.6687 - val_loss: 0.6820 - val_accuracy: 0.6752\n",
      "Epoch 21/50\n",
      "847/847 [==============================] - 556s 656ms/step - loss: 0.7019 - accuracy: 0.6720 - val_loss: 0.6744 - val_accuracy: 0.6785\n",
      "Epoch 22/50\n",
      "847/847 [==============================] - 553s 653ms/step - loss: 0.7040 - accuracy: 0.6694 - val_loss: 0.6627 - val_accuracy: 0.6860\n",
      "Epoch 23/50\n",
      "847/847 [==============================] - 552s 652ms/step - loss: 0.6901 - accuracy: 0.6755 - val_loss: 0.6655 - val_accuracy: 0.6863\n",
      "Epoch 24/50\n",
      "847/847 [==============================] - 559s 660ms/step - loss: 0.6844 - accuracy: 0.6737 - val_loss: 0.6529 - val_accuracy: 0.6917\n",
      "Epoch 25/50\n",
      "847/847 [==============================] - 556s 656ms/step - loss: 0.6875 - accuracy: 0.6764 - val_loss: 0.6582 - val_accuracy: 0.6875\n",
      "Epoch 26/50\n",
      "847/847 [==============================] - 555s 655ms/step - loss: 0.6820 - accuracy: 0.6745 - val_loss: 0.6297 - val_accuracy: 0.6926\n",
      "Epoch 27/50\n",
      "847/847 [==============================] - 600s 708ms/step - loss: 0.6742 - accuracy: 0.6803 - val_loss: 0.6421 - val_accuracy: 0.6905\n",
      "Epoch 28/50\n",
      "847/847 [==============================] - 638s 753ms/step - loss: 0.6623 - accuracy: 0.6830 - val_loss: 0.6906 - val_accuracy: 0.6839\n",
      "Epoch 29/50\n",
      "847/847 [==============================] - 630s 744ms/step - loss: 0.6621 - accuracy: 0.6815 - val_loss: 0.6487 - val_accuracy: 0.6911\n",
      "Epoch 30/50\n",
      "847/847 [==============================] - 637s 752ms/step - loss: 0.6605 - accuracy: 0.6820 - val_loss: 0.6434 - val_accuracy: 0.6920\n",
      "Epoch 31/50\n",
      "847/847 [==============================] - 602s 710ms/step - loss: 0.6530 - accuracy: 0.6861 - val_loss: 0.6296 - val_accuracy: 0.6947\n",
      "Epoch 32/50\n",
      "847/847 [==============================] - 608s 718ms/step - loss: 0.6562 - accuracy: 0.6842 - val_loss: 0.7441 - val_accuracy: 0.6564\n",
      "Epoch 33/50\n",
      "847/847 [==============================] - 601s 709ms/step - loss: 0.6527 - accuracy: 0.6886 - val_loss: 0.6307 - val_accuracy: 0.6917\n",
      "Epoch 34/50\n",
      "847/847 [==============================] - 643s 759ms/step - loss: 0.6459 - accuracy: 0.6882 - val_loss: 0.6601 - val_accuracy: 0.6869\n",
      "Epoch 35/50\n",
      "847/847 [==============================] - 666s 783ms/step - loss: 0.6652 - accuracy: 0.6873 - val_loss: 0.6181 - val_accuracy: 0.6938\n",
      "Epoch 36/50\n",
      "847/847 [==============================] - 603s 712ms/step - loss: 0.6416 - accuracy: 0.6919 - val_loss: 0.6709 - val_accuracy: 0.6827\n",
      "Epoch 37/50\n",
      "847/847 [==============================] - 600s 708ms/step - loss: 0.6394 - accuracy: 0.6897 - val_loss: 0.6309 - val_accuracy: 0.6998\n",
      "Epoch 38/50\n",
      "847/847 [==============================] - 602s 710ms/step - loss: 0.6378 - accuracy: 0.6903 - val_loss: 0.6024 - val_accuracy: 0.7019\n",
      "Epoch 39/50\n",
      "847/847 [==============================] - 594s 701ms/step - loss: 0.6341 - accuracy: 0.6938 - val_loss: 0.6658 - val_accuracy: 0.6782\n",
      "Epoch 40/50\n",
      "847/847 [==============================] - 589s 695ms/step - loss: 0.6443 - accuracy: 0.6929 - val_loss: 0.6067 - val_accuracy: 0.6995\n",
      "Epoch 41/50\n",
      "847/847 [==============================] - 578s 682ms/step - loss: 0.6344 - accuracy: 0.6930 - val_loss: 0.5801 - val_accuracy: 0.7124\n",
      "Epoch 42/50\n",
      "847/847 [==============================] - 578s 682ms/step - loss: 0.6255 - accuracy: 0.6960 - val_loss: 0.5957 - val_accuracy: 0.7028\n",
      "Epoch 43/50\n",
      "847/847 [==============================] - 609s 718ms/step - loss: 0.6306 - accuracy: 0.6950 - val_loss: 0.6195 - val_accuracy: 0.7007\n",
      "Epoch 44/50\n",
      "847/847 [==============================] - 606s 716ms/step - loss: 0.6243 - accuracy: 0.6940 - val_loss: 0.6413 - val_accuracy: 0.6854\n",
      "Epoch 45/50\n",
      "847/847 [==============================] - 605s 714ms/step - loss: 0.6251 - accuracy: 0.6944 - val_loss: 0.6177 - val_accuracy: 0.6438\n",
      "Epoch 46/50\n",
      "847/847 [==============================] - 607s 716ms/step - loss: 0.6288 - accuracy: 0.6966 - val_loss: 0.6641 - val_accuracy: 0.6812\n",
      "105/105 [==============================] - 17s 158ms/step - loss: 0.6846 - accuracy: 0.6767\n",
      "Test loss: 0.6846363544464111\n",
      "Test accuracy: 0.6766895055770874\n"
     ]
    }
   ],
   "source": [
    "import wandb\n",
    "from wandb.keras import WandbCallback\n",
    "\n",
    "# start a new wandb run to track this script\n",
    "wandb.init(project=\"Recognition of expressive symbols in handwritten sheet music\")\n",
    "\n",
    "wandb.config.epochs = 50\n",
    "wandb.config.batch_size = batch_size\n",
    "\n",
    "\n",
    "early_stop = keras.callbacks.EarlyStopping(monitor='val_loss', patience=5)\n",
    "# Train the model\n",
    "cnn_history = cnn.fit(\n",
    "    train_generator,\n",
    "    epochs=50,\n",
    "    validation_data=validation_generator,\n",
    "    callbacks=[early_stop, WandbCallback()]\n",
    ")\n",
    "\n",
    "cnn.summary()\n",
    "\n",
    "#Evaluate the model using the test set\n",
    "test_results = cnn.evaluate(test_generator)\n",
    "print(\"Test loss:\", test_results[0])\n",
    "print(\"Test accuracy:\", test_results[1])"
   ]
  },
  {
   "attachments": {},
   "cell_type": "markdown",
   "metadata": {},
   "source": [
    "After this, the model can be saved for later reference."
   ]
  },
  {
   "cell_type": "code",
   "execution_count": 23,
   "metadata": {},
   "outputs": [
    {
     "name": "stderr",
     "output_type": "stream",
     "text": [
      "C:\\Users\\Reuben\\AppData\\Roaming\\Python\\Python39\\site-packages\\keras\\src\\engine\\training.py:3000: UserWarning: You are saving your model as an HDF5 file via `model.save()`. This file format is considered legacy. We recommend using instead the native Keras format, e.g. `model.save('my_model.keras')`.\n",
      "  saving_api.save_model(\n"
     ]
    }
   ],
   "source": [
    "cnn.save('cnn_test4.h5')"
   ]
  },
  {
   "attachments": {},
   "cell_type": "markdown",
   "metadata": {},
   "source": [
    "We can also use matplotlib to visualise the training progress by using the \"cnn_history\" variable to plot the training and validation accuracy and loss over time."
   ]
  },
  {
   "cell_type": "code",
   "execution_count": 24,
   "metadata": {},
   "outputs": [
    {
     "data": {
      "image/png": "[encoded data removed]",
      "text/plain": [
       "<Figure size 432x288 with 1 Axes>"
      ]
     },
     "metadata": {
      "needs_background": "light"
     },
     "output_type": "display_data"
    },
    {
     "data": {
      "image/png": "[encoded data removed]",
      "text/plain": [
       "<Figure size 432x288 with 1 Axes>"
      ]
     },
     "metadata": {
      "needs_background": "light"
     },
     "output_type": "display_data"
    }
   ],
   "source": [
    "# Plot training & validation accuracy values\n",
    "plt.plot(cnn_history.history['accuracy'])\n",
    "plt.plot(cnn_history.history['val_accuracy'])\n",
    "plt.title('Model accuracy')\n",
    "plt.xlabel('Epoch')\n",
    "plt.ylabel('Accuracy')\n",
    "plt.legend(['Train', 'Validation'], loc='upper left')\n",
    "plt.show()\n",
    "\n",
    "# Plot training & validation loss values\n",
    "plt.plot(cnn_history.history['loss'])\n",
    "plt.plot(cnn_history.history['val_loss'])\n",
    "plt.title('Model loss')\n",
    "plt.xlabel('Epoch')\n",
    "plt.ylabel('Loss')\n",
    "plt.legend(['Train', 'Validation'], loc='upper left')\n",
    "plt.show()"
   ]
  }
 ],
 "metadata": {
  "kernelspec": {
   "display_name": "Python 3",
   "language": "python",
   "name": "python3"
  },
  "language_info": {
   "codemirror_mode": {
    "name": "ipython",
    "version": 3
   },
   "file_extension": ".py",
   "mimetype": "text/x-python",
   "name": "python",
   "nbconvert_exporter": "python",
   "pygments_lexer": "ipython3",
   "version": "3.9.5"
  },
  "orig_nbformat": 4
 },
 "nbformat": 4,
 "nbformat_minor": 2
}

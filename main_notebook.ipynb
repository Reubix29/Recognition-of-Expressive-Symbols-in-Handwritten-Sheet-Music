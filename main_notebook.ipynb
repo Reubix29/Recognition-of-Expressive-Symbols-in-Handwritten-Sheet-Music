{
 "cells": [
  {
   "cell_type": "code",
   "execution_count": 6,
   "metadata": {},
   "outputs": [],
   "source": [
    "import numpy as np\n",
    "import matplotlib.pyplot as plt\n",
    "import pandas as pd\n",
    "import tensorflow as tf\n",
    "from omrdatasettools.Downloader import Downloader\n",
    "from omrdatasettools.OmrDataset import OmrDataset\n",
    "from omrdatasettools.HomusImageGenerator import HomusImageGenerator\n",
    "from omrdatasettools.MuscimaPlusPlusMaskImageGenerator import MuscimaPlusPlusMaskImageGenerator\n",
    "from omrdatasettools.MuscimaPlusPlusSymbolImageGenerator import MuscimaPlusPlusSymbolImageGenerator\n",
    "from omrdatasettools.AudiverisOmrImageGenerator import AudiverisOmrImageGenerator\n",
    "from omrdatasettools.CapitanImageGenerator import CapitanImageGenerator\n",
    "from sklearn.model_selection import train_test_split\n",
    "from sklearn.model_selection import train_test_split\n",
    "from tensorflow.keras import layers, models\n"
   ]
  },
  {
   "attachments": {},
   "cell_type": "markdown",
   "metadata": {},
   "source": [
    "The downloader module is used to extract the raw information about the datasets into the ./data folder"
   ]
  },
  {
   "cell_type": "code",
   "execution_count": 2,
   "metadata": {},
   "outputs": [],
   "source": [
    "downloader = Downloader()"
   ]
  },
  {
   "cell_type": "code",
   "execution_count": null,
   "metadata": {},
   "outputs": [],
   "source": [
    "downloader.download_and_extract_dataset(OmrDataset.MuscimaPlusPlus_V2, \"data/muscima_pp_v2\")"
   ]
  },
  {
   "cell_type": "code",
   "execution_count": null,
   "metadata": {},
   "outputs": [],
   "source": [
    "downloader.download_and_extract_dataset(OmrDataset.Homus_V2, \"data/homus_v2\")"
   ]
  },
  {
   "cell_type": "code",
   "execution_count": 3,
   "metadata": {},
   "outputs": [
    {
     "name": "stdout",
     "output_type": "stream",
     "text": [
      "Extracting Audiveris dataset...\n"
     ]
    }
   ],
   "source": [
    "downloader.download_and_extract_dataset(OmrDataset.Audiveris, \"data/audiveris\")"
   ]
  },
  {
   "cell_type": "code",
   "execution_count": 5,
   "metadata": {},
   "outputs": [
    {
     "name": "stdout",
     "output_type": "stream",
     "text": [
      "Downloading Capitan dataset...\n",
      "Downloading: https://github.com/apacha/OMR-Datasets/releases/download/datasets/BimodalHandwrittenSymbols.zip Bytes: 14535718 into c:\\Users\\S_CSIS-PostGrad\\Documents\\NWU\\Projek\\Recognition-of-Expressive-Symbols-in-Handwritten-Sheet-Music\\BimodalHandwrittenSymbols.zip\n"
     ]
    },
    {
     "name": "stderr",
     "output_type": "stream",
     "text": [
      "Downloading (bytes): 100%|██████████| 14535718/14535718 [00:02<00:00, 6791772.30it/s] \n"
     ]
    },
    {
     "name": "stdout",
     "output_type": "stream",
     "text": [
      "\n",
      "Extracting Capitan dataset...\n"
     ]
    }
   ],
   "source": [
    "downloader.download_and_extract_dataset(OmrDataset.Capitan, \"data/capitan\")"
   ]
  },
  {
   "attachments": {},
   "cell_type": "markdown",
   "metadata": {},
   "source": [
    "The generated raw files are then used to draw the images of the dataset on canvases and store them in different folders."
   ]
  },
  {
   "cell_type": "code",
   "execution_count": null,
   "metadata": {},
   "outputs": [],
   "source": [
    "homus_generator = HomusImageGenerator()\n",
    "homus_generator.create_images(\"./data/homus_v2\", \"./data/homus_v2_images\", [2])"
   ]
  },
  {
   "cell_type": "code",
   "execution_count": null,
   "metadata": {},
   "outputs": [],
   "source": [
    "muscima_generator = MuscimaPlusPlusSymbolImageGenerator()\n",
    "muscima_generator.extract_and_render_all_symbol_masks(\"./data/muscima_pp_v2/\", \"./data/muscima_pp_v2_symbols/\")\n"
   ]
  },
  {
   "cell_type": "code",
   "execution_count": 4,
   "metadata": {},
   "outputs": [
    {
     "name": "stdout",
     "output_type": "stream",
     "text": [
      "Extracting Symbols from Audiveris OMR Dataset...\n"
     ]
    }
   ],
   "source": [
    "audiveris_generator = AudiverisOmrImageGenerator()\n",
    "audiveris_generator.extract_symbols(\"./data/audiveris\", \"./data/audiveris_images\")"
   ]
  },
  {
   "cell_type": "code",
   "execution_count": 7,
   "metadata": {},
   "outputs": [
    {
     "name": "stderr",
     "output_type": "stream",
     "text": [
      "Loading symbols from strings: 100%|██████████| 10230/10230 [00:01<00:00, 6056.08it/s]"
     ]
    },
    {
     "name": "stdout",
     "output_type": "stream",
     "text": [
      "Generating 10230 images with 10230 symbols in 1 different stroke thicknesses ([1])\n",
      "In directory c:\\Users\\S_CSIS-PostGrad\\Documents\\NWU\\Projek\\Recognition-of-Expressive-Symbols-in-Handwritten-Sheet-Music\\data\\capitan_images\n"
     ]
    },
    {
     "name": "stderr",
     "output_type": "stream",
     "text": [
      "\n",
      "Rendering strokes: 100%|██████████| 10230/10230 [00:13<00:00, 760.40it/s]"
     ]
    },
    {
     "name": "stdout",
     "output_type": "stream",
     "text": [
      "Generating 10230 images from Capitan symbols\n",
      "In directory c:\\Users\\S_CSIS-PostGrad\\Documents\\NWU\\Projek\\Recognition-of-Expressive-Symbols-in-Handwritten-Sheet-Music\\data\\capitan_images\n"
     ]
    },
    {
     "name": "stderr",
     "output_type": "stream",
     "text": [
      "\n",
      "Rendering images: 100%|██████████| 10230/10230 [00:16<00:00, 635.68it/s]\n"
     ]
    }
   ],
   "source": [
    "capitan_generator = CapitanImageGenerator()\n",
    "capitan_generator.create_capitan_images(\"./data/capitan/\", \"./data/capitan_images\", [1])"
   ]
  }
 ],
 "metadata": {
  "kernelspec": {
   "display_name": "Python 3",
   "language": "python",
   "name": "python3"
  },
  "language_info": {
   "codemirror_mode": {
    "name": "ipython",
    "version": 3
   },
   "file_extension": ".py",
   "mimetype": "text/x-python",
   "name": "python",
   "nbconvert_exporter": "python",
   "pygments_lexer": "ipython3",
   "version": "3.11.5"
  },
  "orig_nbformat": 4
 },
 "nbformat": 4,
 "nbformat_minor": 2
}
